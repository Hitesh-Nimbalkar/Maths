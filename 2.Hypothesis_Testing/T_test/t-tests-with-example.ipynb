{
 "cells": [
  {
   "cell_type": "code",
   "execution_count": 1,
   "id": "worst-smile",
   "metadata": {
    "_cell_guid": "b1076dfc-b9ad-4769-8c92-a6c4dae69d19",
    "_uuid": "8f2839f25d086af736a60e9eeb907d3b93b6e0e5",
    "execution": {
     "iopub.execute_input": "2021-06-08T17:52:43.749273Z",
     "iopub.status.busy": "2021-06-08T17:52:43.747952Z",
     "iopub.status.idle": "2021-06-08T17:52:43.763028Z",
     "shell.execute_reply": "2021-06-08T17:52:43.763716Z",
     "shell.execute_reply.started": "2021-06-08T17:15:36.695921Z"
    },
    "papermill": {
     "duration": 0.037535,
     "end_time": "2021-06-08T17:52:43.764103",
     "exception": false,
     "start_time": "2021-06-08T17:52:43.726568",
     "status": "completed"
    },
    "tags": []
   },
   "outputs": [
    {
     "name": "stdout",
     "output_type": "stream",
     "text": [
      "/kaggle/input/netflix-original-films-imdb-scores/NetflixOriginals.csv\n"
     ]
    }
   ],
   "source": [
    "# This Python 3 environment comes with many helpful analytics libraries installed\n",
    "# It is defined by the kaggle/python Docker image: https://github.com/kaggle/docker-python\n",
    "# For example, here's several helpful packages to load\n",
    "\n",
    "import numpy as np # linear algebra\n",
    "import pandas as pd # data processing, CSV file I/O (e.g. pd.read_csv)\n",
    "\n",
    "# Input data files are available in the read-only \"../input/\" directory\n",
    "# For example, running this (by clicking run or pressing Shift+Enter) will list all files under the input directory\n",
    "import pandas as pd \n",
    "import warnings \n",
    "warnings.filterwarnings('ignore')\n",
    "import os\n",
    "for dirname, _, filenames in os.walk('/kaggle/input'):\n",
    "    for filename in filenames:\n",
    "        print(os.path.join(dirname, filename))\n",
    "\n",
    "# You can write up to 20GB to the current directory (/kaggle/working/) that gets preserved as output when you create a version using \"Save & Run All\" \n",
    "# You can also write temporary files to /kaggle/temp/, but they won't be saved outside of the current session"
   ]
  },
  {
   "cell_type": "code",
   "execution_count": null,
   "metadata": {},
   "outputs": [],
   "source": [
    "https://www.kaggle.com/code/rushinaik/t-tests-with-example/notebook"
   ]
  },
  {
   "cell_type": "markdown",
   "id": "atlantic-planning",
   "metadata": {
    "papermill": {
     "duration": 0.014847,
     "end_time": "2021-06-08T17:52:43.796349",
     "exception": false,
     "start_time": "2021-06-08T17:52:43.781502",
     "status": "completed"
    },
    "tags": []
   },
   "source": [
    "# THEORY OF T-TEST \n",
    "\n",
    "- The t test tells you how significant the differences between groups are; In other words it lets you know if those differences (measured in means) could have happened by chance.\n",
    "\n",
    "### Assumptions of t-tests for variables: \n",
    "- are independent\n",
    "- are (approximately) normally distributed.\n",
    "- have a similar amount of variance within each group being compared (a.k.a. homogeneity of variance)\n",
    "\n",
    "### Types of t-test : \n",
    "1. Groups/Mean are/is comparing from same population sample\n",
    "2. Two different groups are comparing.\n",
    "\n",
    "![image](https://www.gstatic.com/education/formulas2/355397047/en/student_s_t_test.svg)\n",
    "\n",
    "src : https://www.gstatic.com/education/formulas2/355397047/en/student_s_t_test.svg\n",
    "\n",
    "t\t=\tStudent's t-test\n",
    "\n",
    "m\t=\tmean\n",
    "\n",
    "\\mu\t=\ttheoretical value\n",
    "\n",
    "s\t=\tstandard deviation\n",
    "\n",
    "{n}\t=\tvariable set size"
   ]
  },
  {
   "cell_type": "code",
   "execution_count": 2,
   "id": "equal-durham",
   "metadata": {
    "execution": {
     "iopub.execute_input": "2021-06-08T17:52:43.830895Z",
     "iopub.status.busy": "2021-06-08T17:52:43.830067Z",
     "iopub.status.idle": "2021-06-08T17:52:43.881884Z",
     "shell.execute_reply": "2021-06-08T17:52:43.882422Z",
     "shell.execute_reply.started": "2021-06-08T17:15:37.895524Z"
    },
    "papermill": {
     "duration": 0.071074,
     "end_time": "2021-06-08T17:52:43.882685",
     "exception": false,
     "start_time": "2021-06-08T17:52:43.811611",
     "status": "completed"
    },
    "tags": []
   },
   "outputs": [
    {
     "data": {
      "text/html": [
       "<div>\n",
       "<style scoped>\n",
       "    .dataframe tbody tr th:only-of-type {\n",
       "        vertical-align: middle;\n",
       "    }\n",
       "\n",
       "    .dataframe tbody tr th {\n",
       "        vertical-align: top;\n",
       "    }\n",
       "\n",
       "    .dataframe thead th {\n",
       "        text-align: right;\n",
       "    }\n",
       "</style>\n",
       "<table border=\"1\" class=\"dataframe\">\n",
       "  <thead>\n",
       "    <tr style=\"text-align: right;\">\n",
       "      <th></th>\n",
       "      <th>Title</th>\n",
       "      <th>Genre</th>\n",
       "      <th>Premiere</th>\n",
       "      <th>Runtime</th>\n",
       "      <th>IMDB Score</th>\n",
       "      <th>Language</th>\n",
       "    </tr>\n",
       "  </thead>\n",
       "  <tbody>\n",
       "    <tr>\n",
       "      <th>443</th>\n",
       "      <td>ReMastered: The Lion's Share</td>\n",
       "      <td>Documentary</td>\n",
       "      <td>May 17, 2019</td>\n",
       "      <td>84</td>\n",
       "      <td>7.0</td>\n",
       "      <td>English</td>\n",
       "    </tr>\n",
       "    <tr>\n",
       "      <th>194</th>\n",
       "      <td>Army of the Dead</td>\n",
       "      <td>Zombie/Heist</td>\n",
       "      <td>May 21, 2021</td>\n",
       "      <td>148</td>\n",
       "      <td>5.9</td>\n",
       "      <td>English</td>\n",
       "    </tr>\n",
       "  </tbody>\n",
       "</table>\n",
       "</div>"
      ],
      "text/plain": [
       "                            Title         Genre      Premiere  Runtime  \\\n",
       "443  ReMastered: The Lion's Share   Documentary  May 17, 2019       84   \n",
       "194              Army of the Dead  Zombie/Heist  May 21, 2021      148   \n",
       "\n",
       "     IMDB Score Language  \n",
       "443         7.0  English  \n",
       "194         5.9  English  "
      ]
     },
     "execution_count": 2,
     "metadata": {},
     "output_type": "execute_result"
    }
   ],
   "source": [
    "data = pd.read_csv('/kaggle/input/netflix-original-films-imdb-scores/NetflixOriginals.csv')\n",
    "data.sample(2)"
   ]
  },
  {
   "cell_type": "code",
   "execution_count": 3,
   "id": "arctic-contents",
   "metadata": {
    "execution": {
     "iopub.execute_input": "2021-06-08T17:52:43.918570Z",
     "iopub.status.busy": "2021-06-08T17:52:43.917753Z",
     "iopub.status.idle": "2021-06-08T17:52:45.008119Z",
     "shell.execute_reply": "2021-06-08T17:52:45.008722Z",
     "shell.execute_reply.started": "2021-06-08T17:15:38.050335Z"
    },
    "papermill": {
     "duration": 1.110627,
     "end_time": "2021-06-08T17:52:45.008971",
     "exception": false,
     "start_time": "2021-06-08T17:52:43.898344",
     "status": "completed"
    },
    "tags": []
   },
   "outputs": [],
   "source": [
    "import seaborn as sns\n",
    "import matplotlib.pyplot as plt \n"
   ]
  },
  {
   "cell_type": "code",
   "execution_count": 4,
   "id": "studied-salvation",
   "metadata": {
    "execution": {
     "iopub.execute_input": "2021-06-08T17:52:45.045567Z",
     "iopub.status.busy": "2021-06-08T17:52:45.044695Z",
     "iopub.status.idle": "2021-06-08T17:52:45.398650Z",
     "shell.execute_reply": "2021-06-08T17:52:45.399236Z",
     "shell.execute_reply.started": "2021-06-08T17:15:38.256045Z"
    },
    "papermill": {
     "duration": 0.374758,
     "end_time": "2021-06-08T17:52:45.399448",
     "exception": false,
     "start_time": "2021-06-08T17:52:45.024690",
     "status": "completed"
    },
    "tags": []
   },
   "outputs": [
    {
     "data": {
      "text/plain": [
       "<AxesSubplot:xlabel='Runtime', ylabel='Density'>"
      ]
     },
     "execution_count": 4,
     "metadata": {},
     "output_type": "execute_result"
    },
    {
     "data": {
      "image/png": "[encoded data removed]",
      "text/plain": [
       "<Figure size 1152x576 with 1 Axes>"
      ]
     },
     "metadata": {
      "needs_background": "light"
     },
     "output_type": "display_data"
    }
   ],
   "source": [
    "fig, ax = plt.subplots(1,1,figsize=(16, 8))\n",
    "\n",
    "sns.distplot(data['Runtime'])"
   ]
  },
  {
   "cell_type": "code",
   "execution_count": 5,
   "id": "equivalent-being",
   "metadata": {
    "execution": {
     "iopub.execute_input": "2021-06-08T17:52:45.439027Z",
     "iopub.status.busy": "2021-06-08T17:52:45.438173Z",
     "iopub.status.idle": "2021-06-08T17:52:45.441545Z",
     "shell.execute_reply": "2021-06-08T17:52:45.442045Z",
     "shell.execute_reply.started": "2021-06-08T17:15:38.507543Z"
    },
    "papermill": {
     "duration": 0.024995,
     "end_time": "2021-06-08T17:52:45.442307",
     "exception": false,
     "start_time": "2021-06-08T17:52:45.417312",
     "status": "completed"
    },
    "tags": []
   },
   "outputs": [],
   "source": [
    "# ONE SAMPLE T-TEST\n",
    "# Null : Hypothesis : The mean of distribution is 7.1\n",
    "# ALternate Hypothesis : The mean of the dsitribution is not different \n"
   ]
  },
  {
   "cell_type": "code",
   "execution_count": 6,
   "id": "dramatic-count",
   "metadata": {
    "execution": {
     "iopub.execute_input": "2021-06-08T17:52:45.482745Z",
     "iopub.status.busy": "2021-06-08T17:52:45.481871Z",
     "iopub.status.idle": "2021-06-08T17:52:45.488333Z",
     "shell.execute_reply": "2021-06-08T17:52:45.488910Z",
     "shell.execute_reply.started": "2021-06-08T17:15:38.610727Z"
    },
    "papermill": {
     "duration": 0.027895,
     "end_time": "2021-06-08T17:52:45.489119",
     "exception": false,
     "start_time": "2021-06-08T17:52:45.461224",
     "status": "completed"
    },
    "tags": []
   },
   "outputs": [
    {
     "name": "stdout",
     "output_type": "stream",
     "text": [
      "Mean of Runtime 93.57705479452055\n"
     ]
    }
   ],
   "source": [
    "from scipy import stats\n",
    "print(f\"Mean of Runtime {np.mean(data['Runtime'])}\")"
   ]
  },
  {
   "cell_type": "code",
   "execution_count": 7,
   "id": "dated-reach",
   "metadata": {
    "execution": {
     "iopub.execute_input": "2021-06-08T17:52:45.533448Z",
     "iopub.status.busy": "2021-06-08T17:52:45.532666Z",
     "iopub.status.idle": "2021-06-08T17:52:45.535443Z",
     "shell.execute_reply": "2021-06-08T17:52:45.536292Z",
     "shell.execute_reply.started": "2021-06-08T17:15:39.150304Z"
    },
    "papermill": {
     "duration": 0.02972,
     "end_time": "2021-06-08T17:52:45.536542",
     "exception": false,
     "start_time": "2021-06-08T17:52:45.506822",
     "status": "completed"
    },
    "tags": []
   },
   "outputs": [],
   "source": [
    "h_null = 91.3\n",
    "test_result, pval = stats.ttest_1samp(data['Runtime'], h_null)\n"
   ]
  },
  {
   "cell_type": "code",
   "execution_count": 8,
   "id": "healthy-fundamentals",
   "metadata": {
    "execution": {
     "iopub.execute_input": "2021-06-08T17:52:45.576212Z",
     "iopub.status.busy": "2021-06-08T17:52:45.575091Z",
     "iopub.status.idle": "2021-06-08T17:52:45.581923Z",
     "shell.execute_reply": "2021-06-08T17:52:45.582432Z",
     "shell.execute_reply.started": "2021-06-08T17:15:39.411072Z"
    },
    "papermill": {
     "duration": 0.028584,
     "end_time": "2021-06-08T17:52:45.582698",
     "exception": false,
     "start_time": "2021-06-08T17:52:45.554114",
     "status": "completed"
    },
    "tags": []
   },
   "outputs": [
    {
     "name": "stdout",
     "output_type": "stream",
     "text": [
      "WE  reject null hypothesis & Their is difference in mean of the sample distribution and  null hypothesis: 91.3\n"
     ]
    }
   ],
   "source": [
    "if pval < 0.05: \n",
    "    print(f\"WE  reject null hypothesis & Their is difference in mean of the sample distribution and  null hypothesis: {h_null}\")\n",
    "else: \n",
    "    print(f\"Null hypothesis is true : The mean of distribition is {h_null}\")"
   ]
  },
  {
   "cell_type": "code",
   "execution_count": 9,
   "id": "stone-tattoo",
   "metadata": {
    "execution": {
     "iopub.execute_input": "2021-06-08T17:52:45.626009Z",
     "iopub.status.busy": "2021-06-08T17:52:45.625279Z",
     "iopub.status.idle": "2021-06-08T17:52:45.627940Z",
     "shell.execute_reply": "2021-06-08T17:52:45.628462Z",
     "shell.execute_reply.started": "2021-06-08T17:15:39.610506Z"
    },
    "papermill": {
     "duration": 0.028048,
     "end_time": "2021-06-08T17:52:45.628674",
     "exception": false,
     "start_time": "2021-06-08T17:52:45.600626",
     "status": "completed"
    },
    "tags": []
   },
   "outputs": [
    {
     "name": "stdout",
     "output_type": "stream",
     "text": [
      "1.9821390465346165 0.04793278487063802\n"
     ]
    }
   ],
   "source": [
    "print(test_result, pval)"
   ]
  },
  {
   "cell_type": "code",
   "execution_count": 10,
   "id": "convertible-companion",
   "metadata": {
    "execution": {
     "iopub.execute_input": "2021-06-08T17:52:45.673941Z",
     "iopub.status.busy": "2021-06-08T17:52:45.673094Z",
     "iopub.status.idle": "2021-06-08T17:52:45.677778Z",
     "shell.execute_reply": "2021-06-08T17:52:45.676940Z",
     "shell.execute_reply.started": "2021-06-08T17:15:39.810677Z"
    },
    "papermill": {
     "duration": 0.030627,
     "end_time": "2021-06-08T17:52:45.677993",
     "exception": false,
     "start_time": "2021-06-08T17:52:45.647366",
     "status": "completed"
    },
    "tags": []
   },
   "outputs": [
    {
     "name": "stdout",
     "output_type": "stream",
     "text": [
      "Null hypothesis is true : The mean of distribition is 93\n",
      "0.5023167834878675 0.6156343750882074\n"
     ]
    }
   ],
   "source": [
    "h_null = 93\n",
    "test_result, pval = stats.ttest_1samp(data['Runtime'], h_null)\n",
    "if pval < 0.05: \n",
    "    print(f\"WE  reject null hypothesis & Their is difference in mean of the sample distribution and  null hypothesis: {h_null}\")\n",
    "else: \n",
    "    print(f\"Null hypothesis is true : The mean of distribition is {h_null}\")\n",
    "print(test_result, pval)\n"
   ]
  },
  {
   "cell_type": "code",
   "execution_count": 11,
   "id": "allied-favorite",
   "metadata": {
    "execution": {
     "iopub.execute_input": "2021-06-08T17:52:45.726854Z",
     "iopub.status.busy": "2021-06-08T17:52:45.725620Z",
     "iopub.status.idle": "2021-06-08T17:52:45.730888Z",
     "shell.execute_reply": "2021-06-08T17:52:45.731519Z",
     "shell.execute_reply.started": "2021-06-08T17:15:40.450716Z"
    },
    "papermill": {
     "duration": 0.034234,
     "end_time": "2021-06-08T17:52:45.731761",
     "exception": false,
     "start_time": "2021-06-08T17:52:45.697527",
     "status": "completed"
    },
    "tags": []
   },
   "outputs": [],
   "source": [
    "# TWO SAMPLE T_TEST \n",
    "# H0 : nullhypothesis : the null hypothesis that 2 independent samples have identical average (expected) values\n",
    "# HA : Alternate Hypothesis : that 2 independent samples have different mean "
   ]
  },
  {
   "cell_type": "code",
   "execution_count": 12,
   "id": "constitutional-luxury",
   "metadata": {
    "execution": {
     "iopub.execute_input": "2021-06-08T17:52:45.793993Z",
     "iopub.status.busy": "2021-06-08T17:52:45.792190Z",
     "iopub.status.idle": "2021-06-08T17:52:45.798521Z",
     "shell.execute_reply": "2021-06-08T17:52:45.797395Z",
     "shell.execute_reply.started": "2021-06-08T17:15:41.290511Z"
    },
    "papermill": {
     "duration": 0.044619,
     "end_time": "2021-06-08T17:52:45.798798",
     "exception": false,
     "start_time": "2021-06-08T17:52:45.754179",
     "status": "completed"
    },
    "tags": []
   },
   "outputs": [
    {
     "name": "stdout",
     "output_type": "stream",
     "text": [
      "WE  reject null hypothesis & Their is difference in mean of the sample distributions and  null hypothesis: 93\n",
      "2.9773044632260666 0.0030284957679330366\n"
     ]
    }
   ],
   "source": [
    "dummy = [10, 60]\n",
    "test_result, pval = stats.ttest_ind(data['Runtime'], dummy)\n",
    "if pval < 0.05: \n",
    "    print(f\"WE  reject null hypothesis & Their is difference in mean of the sample distributions and  null hypothesis: {h_null}\")\n",
    "else: \n",
    "    print(f\"Null hypothesis is true : The mean of distribition is identical \")\n",
    "print(test_result, pval)\n"
   ]
  },
  {
   "cell_type": "code",
   "execution_count": 13,
   "id": "seventh-wayne",
   "metadata": {
    "execution": {
     "iopub.execute_input": "2021-06-08T17:52:45.882893Z",
     "iopub.status.busy": "2021-06-08T17:52:45.880983Z",
     "iopub.status.idle": "2021-06-08T17:52:46.214161Z",
     "shell.execute_reply": "2021-06-08T17:52:46.213485Z",
     "shell.execute_reply.started": "2021-06-08T17:15:41.930864Z"
    },
    "papermill": {
     "duration": 0.392501,
     "end_time": "2021-06-08T17:52:46.214333",
     "exception": false,
     "start_time": "2021-06-08T17:52:45.821832",
     "status": "completed"
    },
    "tags": []
   },
   "outputs": [
    {
     "data": {
      "image/png": "[encoded data removed]",
      "text/plain": [
       "<Figure size 1152x576 with 1 Axes>"
      ]
     },
     "metadata": {
      "needs_background": "light"
     },
     "output_type": "display_data"
    }
   ],
   "source": [
    "fig, ax = plt.subplots(1,1,figsize=(16, 8))\n",
    "sns.distplot(data['Runtime'])\n",
    "sns.distplot(dummy)\n",
    "ax.legend(['Runtime', 'dummy'])\n",
    "plt.show()"
   ]
  },
  {
   "cell_type": "code",
   "execution_count": 14,
   "id": "cultural-newspaper",
   "metadata": {
    "execution": {
     "iopub.execute_input": "2021-06-08T17:52:46.285252Z",
     "iopub.status.busy": "2021-06-08T17:52:46.278518Z",
     "iopub.status.idle": "2021-06-08T17:52:46.649403Z",
     "shell.execute_reply": "2021-06-08T17:52:46.648653Z",
     "shell.execute_reply.started": "2021-06-08T17:16:04.806095Z"
    },
    "papermill": {
     "duration": 0.414679,
     "end_time": "2021-06-08T17:52:46.649570",
     "exception": false,
     "start_time": "2021-06-08T17:52:46.234891",
     "status": "completed"
    },
    "tags": []
   },
   "outputs": [
    {
     "name": "stdout",
     "output_type": "stream",
     "text": [
      "Null hypothesis is true : The mean of distribition is identical \n",
      "0.4585081948273481 0.6467570817311146\n",
      "\n",
      "\n"
     ]
    },
    {
     "data": {
      "image/png": "[encoded data removed]",
      "text/plain": [
       "<Figure size 1152x576 with 1 Axes>"
      ]
     },
     "metadata": {
      "needs_background": "light"
     },
     "output_type": "display_data"
    }
   ],
   "source": [
    "dummy = [10, 60, 99,110, 160]\n",
    "test_result, pval = stats.ttest_ind(data['Runtime'], dummy)\n",
    "if pval < 0.05: \n",
    "    print(f\"WE  reject null hypothesis & Their is difference in mean of the sample distributions and  null hypothesis: {h_null}\")\n",
    "else: \n",
    "    print(f\"Null hypothesis is true : The mean of distribition is identical \")\n",
    "print(test_result, pval)\n",
    "print()\n",
    "print()\n",
    "fig, ax = plt.subplots(1,1,figsize=(16, 8))\n",
    "sns.distplot(data['Runtime'])\n",
    "sns.distplot(dummy)\n",
    "ax.legend(['Runtime', 'dummy'])\n",
    "plt.title(\"T-TEST:Null hypothesis is true : The mean of distribition is identical\", size=22)\n",
    "plt.show()\n",
    "#test_result, pval\n"
   ]
  },
  {
   "cell_type": "code",
   "execution_count": 15,
   "id": "prompt-rates",
   "metadata": {
    "execution": {
     "iopub.execute_input": "2021-06-08T17:52:46.765510Z",
     "iopub.status.busy": "2021-06-08T17:52:46.733783Z",
     "iopub.status.idle": "2021-06-08T17:52:46.923326Z",
     "shell.execute_reply": "2021-06-08T17:52:46.922681Z",
     "shell.execute_reply.started": "2021-06-08T17:30:24.771585Z"
    },
    "papermill": {
     "duration": 0.251887,
     "end_time": "2021-06-08T17:52:46.923516",
     "exception": false,
     "start_time": "2021-06-08T17:52:46.671629",
     "status": "completed"
    },
    "tags": []
   },
   "outputs": [
    {
     "data": {
      "text/plain": [
       "<AxesSubplot:>"
      ]
     },
     "execution_count": 15,
     "metadata": {},
     "output_type": "execute_result"
    },
    {
     "data": {
      "image/png": "[encoded data removed]",
      "text/plain": [
       "<Figure size 432x288 with 2 Axes>"
      ]
     },
     "metadata": {
      "needs_background": "light"
     },
     "output_type": "display_data"
    }
   ],
   "source": [
    "# CORRELATION ;\n",
    "cor = data.corr()\n",
    "\n",
    "sns.heatmap(cor)"
   ]
  },
  {
   "cell_type": "markdown",
   "metadata": {},
   "source": [
    "#### T_Test"
   ]
  },
  {
   "cell_type": "code",
   "execution_count": null,
   "id": "aggregate-truck",
   "metadata": {
    "papermill": {
     "duration": 0.024351,
     "end_time": "2021-06-08T17:52:46.971643",
     "exception": false,
     "start_time": "2021-06-08T17:52:46.947292",
     "status": "completed"
    },
    "tags": []
   },
   "outputs": [],
   "source": []
  }
 ],
 "metadata": {
  "kernelspec": {
   "display_name": "Python 3",
   "language": "python",
   "name": "python3"
  },
  "language_info": {
   "codemirror_mode": {
    "name": "ipython",
    "version": 3
   },
   "file_extension": ".py",
   "mimetype": "text/x-python",
   "name": "python",
   "nbconvert_exporter": "python",
   "pygments_lexer": "ipython3",
   "version": "3.7.9"
  },
  "papermill": {
   "default_parameters": {},
   "duration": 11.092511,
   "end_time": "2021-06-08T17:52:47.909223",
   "environment_variables": {},
   "exception": null,
   "input_path": "__notebook__.ipynb",
   "output_path": "__notebook__.ipynb",
   "parameters": {},
   "start_time": "2021-06-08T17:52:36.816712",
   "version": "2.3.2"
  }
 },
 "nbformat": 4,
 "nbformat_minor": 5
}
