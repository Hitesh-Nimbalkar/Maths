{
 "cells": [
  {
   "cell_type": "code",
   "execution_count": 1,
   "id": "0b1b4765",
   "metadata": {
    "_cell_guid": "b1076dfc-b9ad-4769-8c92-a6c4dae69d19",
    "_uuid": "8f2839f25d086af736a60e9eeb907d3b93b6e0e5",
    "execution": {
     "iopub.execute_input": "2022-06-26T18:21:29.405098Z",
     "iopub.status.busy": "2022-06-26T18:21:29.404649Z",
     "iopub.status.idle": "2022-06-26T18:21:29.416701Z",
     "shell.execute_reply": "2022-06-26T18:21:29.415849Z"
    },
    "papermill": {
     "duration": 0.030995,
     "end_time": "2022-06-26T18:21:29.419076",
     "exception": false,
     "start_time": "2022-06-26T18:21:29.388081",
     "status": "completed"
    },
    "tags": []
   },
   "outputs": [],
   "source": [
    "import pandas as pd"
   ]
  },
  {
   "cell_type": "markdown",
   "id": "0cc1497c",
   "metadata": {
    "papermill": {
     "duration": 0.013072,
     "end_time": "2022-06-26T18:21:29.445558",
     "exception": false,
     "start_time": "2022-06-26T18:21:29.432486",
     "status": "completed"
    },
    "tags": []
   },
   "source": [
    "## Z-test and T-test"
   ]
  },
  {
   "cell_type": "markdown",
   "id": "978c407b",
   "metadata": {
    "papermill": {
     "duration": 0.013231,
     "end_time": "2022-06-26T18:21:29.472529",
     "exception": false,
     "start_time": "2022-06-26T18:21:29.459298",
     "status": "completed"
    },
    "tags": []
   },
   "source": [
    "Question: Do height of me and my colleagues are statistically higher than population height? "
   ]
  },
  {
   "cell_type": "markdown",
   "id": "10bf9db6",
   "metadata": {
    "papermill": {
     "duration": 0.014624,
     "end_time": "2022-06-26T18:21:29.501750",
     "exception": false,
     "start_time": "2022-06-26T18:21:29.487126",
     "status": "completed"
    },
    "tags": []
   },
   "source": [
    "#### Population"
   ]
  },
  {
   "cell_type": "code",
   "execution_count": 2,
   "id": "7324c91f",
   "metadata": {
    "execution": {
     "iopub.execute_input": "2022-06-26T18:21:29.532674Z",
     "iopub.status.busy": "2022-06-26T18:21:29.531757Z",
     "iopub.status.idle": "2022-06-26T18:21:29.571667Z",
     "shell.execute_reply": "2022-06-26T18:21:29.570897Z"
    },
    "papermill": {
     "duration": 0.058062,
     "end_time": "2022-06-26T18:21:29.574016",
     "exception": false,
     "start_time": "2022-06-26T18:21:29.515954",
     "status": "completed"
    },
    "tags": []
   },
   "outputs": [
    {
     "data": {
      "text/html": [
       "<div>\n",
       "<style scoped>\n",
       "    .dataframe tbody tr th:only-of-type {\n",
       "        vertical-align: middle;\n",
       "    }\n",
       "\n",
       "    .dataframe tbody tr th {\n",
       "        vertical-align: top;\n",
       "    }\n",
       "\n",
       "    .dataframe thead th {\n",
       "        text-align: right;\n",
       "    }\n",
       "</style>\n",
       "<table border=\"1\" class=\"dataframe\">\n",
       "  <thead>\n",
       "    <tr style=\"text-align: right;\">\n",
       "      <th></th>\n",
       "      <th>Rank</th>\n",
       "      <th>Country Name</th>\n",
       "      <th>Male Height in Cm</th>\n",
       "      <th>Female Height in Cm</th>\n",
       "      <th>Male Height in Ft</th>\n",
       "      <th>Female Height in Ft</th>\n",
       "    </tr>\n",
       "  </thead>\n",
       "  <tbody>\n",
       "    <tr>\n",
       "      <th>0</th>\n",
       "      <td>1</td>\n",
       "      <td>Netherlands</td>\n",
       "      <td>183.78</td>\n",
       "      <td>170.36</td>\n",
       "      <td>6.03</td>\n",
       "      <td>5.59</td>\n",
       "    </tr>\n",
       "    <tr>\n",
       "      <th>1</th>\n",
       "      <td>2</td>\n",
       "      <td>Montenegro</td>\n",
       "      <td>183.30</td>\n",
       "      <td>169.96</td>\n",
       "      <td>6.01</td>\n",
       "      <td>5.58</td>\n",
       "    </tr>\n",
       "    <tr>\n",
       "      <th>2</th>\n",
       "      <td>3</td>\n",
       "      <td>Estonia</td>\n",
       "      <td>182.79</td>\n",
       "      <td>168.66</td>\n",
       "      <td>6.00</td>\n",
       "      <td>5.53</td>\n",
       "    </tr>\n",
       "    <tr>\n",
       "      <th>3</th>\n",
       "      <td>4</td>\n",
       "      <td>Bosnia and Herzegovina</td>\n",
       "      <td>182.47</td>\n",
       "      <td>167.47</td>\n",
       "      <td>5.99</td>\n",
       "      <td>5.49</td>\n",
       "    </tr>\n",
       "    <tr>\n",
       "      <th>4</th>\n",
       "      <td>5</td>\n",
       "      <td>Iceland</td>\n",
       "      <td>182.10</td>\n",
       "      <td>168.91</td>\n",
       "      <td>5.97</td>\n",
       "      <td>5.54</td>\n",
       "    </tr>\n",
       "  </tbody>\n",
       "</table>\n",
       "</div>"
      ],
      "text/plain": [
       "   Rank            Country Name  Male Height in Cm  Female Height in Cm  \\\n",
       "0     1             Netherlands             183.78               170.36   \n",
       "1     2              Montenegro             183.30               169.96   \n",
       "2     3                 Estonia             182.79               168.66   \n",
       "3     4  Bosnia and Herzegovina             182.47               167.47   \n",
       "4     5                 Iceland             182.10               168.91   \n",
       "\n",
       "   Male Height in Ft  Female Height in Ft  \n",
       "0               6.03                 5.59  \n",
       "1               6.01                 5.58  \n",
       "2               6.00                 5.53  \n",
       "3               5.99                 5.49  \n",
       "4               5.97                 5.54  "
      ]
     },
     "execution_count": 2,
     "metadata": {},
     "output_type": "execute_result"
    }
   ],
   "source": [
    "df_popul = pd.read_csv('../input/height-of-male-and-female-by-country-2022/Height of Male and Female by Country 2022.csv')\n",
    "df_popul.head(5)"
   ]
  },
  {
   "cell_type": "code",
   "execution_count": 3,
   "id": "781b3768",
   "metadata": {
    "execution": {
     "iopub.execute_input": "2022-06-26T18:21:29.603791Z",
     "iopub.status.busy": "2022-06-26T18:21:29.603089Z",
     "iopub.status.idle": "2022-06-26T18:21:29.624909Z",
     "shell.execute_reply": "2022-06-26T18:21:29.623810Z"
    },
    "papermill": {
     "duration": 0.039483,
     "end_time": "2022-06-26T18:21:29.627448",
     "exception": false,
     "start_time": "2022-06-26T18:21:29.587965",
     "status": "completed"
    },
    "tags": []
   },
   "outputs": [
    {
     "data": {
      "text/html": [
       "<div>\n",
       "<style scoped>\n",
       "    .dataframe tbody tr th:only-of-type {\n",
       "        vertical-align: middle;\n",
       "    }\n",
       "\n",
       "    .dataframe tbody tr th {\n",
       "        vertical-align: top;\n",
       "    }\n",
       "\n",
       "    .dataframe thead th {\n",
       "        text-align: right;\n",
       "    }\n",
       "</style>\n",
       "<table border=\"1\" class=\"dataframe\">\n",
       "  <thead>\n",
       "    <tr style=\"text-align: right;\">\n",
       "      <th></th>\n",
       "      <th>Rank</th>\n",
       "      <th>Country Name</th>\n",
       "      <th>Male Height in Cm</th>\n",
       "      <th>Female Height in Cm</th>\n",
       "    </tr>\n",
       "  </thead>\n",
       "  <tbody>\n",
       "    <tr>\n",
       "      <th>0</th>\n",
       "      <td>1</td>\n",
       "      <td>Netherlands</td>\n",
       "      <td>183.78</td>\n",
       "      <td>170.36</td>\n",
       "    </tr>\n",
       "    <tr>\n",
       "      <th>1</th>\n",
       "      <td>2</td>\n",
       "      <td>Montenegro</td>\n",
       "      <td>183.30</td>\n",
       "      <td>169.96</td>\n",
       "    </tr>\n",
       "    <tr>\n",
       "      <th>2</th>\n",
       "      <td>3</td>\n",
       "      <td>Estonia</td>\n",
       "      <td>182.79</td>\n",
       "      <td>168.66</td>\n",
       "    </tr>\n",
       "    <tr>\n",
       "      <th>3</th>\n",
       "      <td>4</td>\n",
       "      <td>Bosnia and Herzegovina</td>\n",
       "      <td>182.47</td>\n",
       "      <td>167.47</td>\n",
       "    </tr>\n",
       "    <tr>\n",
       "      <th>4</th>\n",
       "      <td>5</td>\n",
       "      <td>Iceland</td>\n",
       "      <td>182.10</td>\n",
       "      <td>168.91</td>\n",
       "    </tr>\n",
       "    <tr>\n",
       "      <th>...</th>\n",
       "      <td>...</td>\n",
       "      <td>...</td>\n",
       "      <td>...</td>\n",
       "      <td>...</td>\n",
       "    </tr>\n",
       "    <tr>\n",
       "      <th>194</th>\n",
       "      <td>195</td>\n",
       "      <td>Mozambique</td>\n",
       "      <td>164.30</td>\n",
       "      <td>155.42</td>\n",
       "    </tr>\n",
       "    <tr>\n",
       "      <th>195</th>\n",
       "      <td>196</td>\n",
       "      <td>Papua New Guinea</td>\n",
       "      <td>163.10</td>\n",
       "      <td>156.89</td>\n",
       "    </tr>\n",
       "    <tr>\n",
       "      <th>196</th>\n",
       "      <td>197</td>\n",
       "      <td>Solomon Islands</td>\n",
       "      <td>163.07</td>\n",
       "      <td>156.79</td>\n",
       "    </tr>\n",
       "    <tr>\n",
       "      <th>197</th>\n",
       "      <td>198</td>\n",
       "      <td>Laos</td>\n",
       "      <td>162.78</td>\n",
       "      <td>153.10</td>\n",
       "    </tr>\n",
       "    <tr>\n",
       "      <th>198</th>\n",
       "      <td>199</td>\n",
       "      <td>Timor-Leste</td>\n",
       "      <td>160.13</td>\n",
       "      <td>152.71</td>\n",
       "    </tr>\n",
       "  </tbody>\n",
       "</table>\n",
       "<p>199 rows × 4 columns</p>\n",
       "</div>"
      ],
      "text/plain": [
       "     Rank            Country Name  Male Height in Cm  Female Height in Cm\n",
       "0       1             Netherlands             183.78               170.36\n",
       "1       2              Montenegro             183.30               169.96\n",
       "2       3                 Estonia             182.79               168.66\n",
       "3       4  Bosnia and Herzegovina             182.47               167.47\n",
       "4       5                 Iceland             182.10               168.91\n",
       "..    ...                     ...                ...                  ...\n",
       "194   195              Mozambique             164.30               155.42\n",
       "195   196        Papua New Guinea             163.10               156.89\n",
       "196   197         Solomon Islands             163.07               156.79\n",
       "197   198                    Laos             162.78               153.10\n",
       "198   199             Timor-Leste             160.13               152.71\n",
       "\n",
       "[199 rows x 4 columns]"
      ]
     },
     "execution_count": 3,
     "metadata": {},
     "output_type": "execute_result"
    }
   ],
   "source": [
    "df_popul.drop(df_popul.columns[-2:], inplace=True, axis=1)\n",
    "df_popul"
   ]
  },
  {
   "cell_type": "code",
   "execution_count": 4,
   "id": "d48d924f",
   "metadata": {
    "execution": {
     "iopub.execute_input": "2022-06-26T18:21:29.656902Z",
     "iopub.status.busy": "2022-06-26T18:21:29.656124Z",
     "iopub.status.idle": "2022-06-26T18:21:29.678282Z",
     "shell.execute_reply": "2022-06-26T18:21:29.677136Z"
    },
    "papermill": {
     "duration": 0.039518,
     "end_time": "2022-06-26T18:21:29.680610",
     "exception": false,
     "start_time": "2022-06-26T18:21:29.641092",
     "status": "completed"
    },
    "tags": []
   },
   "outputs": [
    {
     "data": {
      "text/html": [
       "<div>\n",
       "<style scoped>\n",
       "    .dataframe tbody tr th:only-of-type {\n",
       "        vertical-align: middle;\n",
       "    }\n",
       "\n",
       "    .dataframe tbody tr th {\n",
       "        vertical-align: top;\n",
       "    }\n",
       "\n",
       "    .dataframe thead th {\n",
       "        text-align: right;\n",
       "    }\n",
       "</style>\n",
       "<table border=\"1\" class=\"dataframe\">\n",
       "  <thead>\n",
       "    <tr style=\"text-align: right;\">\n",
       "      <th></th>\n",
       "      <th>Rank</th>\n",
       "      <th>Country Name</th>\n",
       "      <th>Male Height in Cm</th>\n",
       "      <th>Female Height in Cm</th>\n",
       "      <th>Height in Cm</th>\n",
       "    </tr>\n",
       "  </thead>\n",
       "  <tbody>\n",
       "    <tr>\n",
       "      <th>0</th>\n",
       "      <td>1</td>\n",
       "      <td>Netherlands</td>\n",
       "      <td>183.78</td>\n",
       "      <td>170.36</td>\n",
       "      <td>177.070</td>\n",
       "    </tr>\n",
       "    <tr>\n",
       "      <th>1</th>\n",
       "      <td>2</td>\n",
       "      <td>Montenegro</td>\n",
       "      <td>183.30</td>\n",
       "      <td>169.96</td>\n",
       "      <td>176.630</td>\n",
       "    </tr>\n",
       "    <tr>\n",
       "      <th>2</th>\n",
       "      <td>3</td>\n",
       "      <td>Estonia</td>\n",
       "      <td>182.79</td>\n",
       "      <td>168.66</td>\n",
       "      <td>175.725</td>\n",
       "    </tr>\n",
       "    <tr>\n",
       "      <th>3</th>\n",
       "      <td>4</td>\n",
       "      <td>Bosnia and Herzegovina</td>\n",
       "      <td>182.47</td>\n",
       "      <td>167.47</td>\n",
       "      <td>174.970</td>\n",
       "    </tr>\n",
       "    <tr>\n",
       "      <th>4</th>\n",
       "      <td>5</td>\n",
       "      <td>Iceland</td>\n",
       "      <td>182.10</td>\n",
       "      <td>168.91</td>\n",
       "      <td>175.505</td>\n",
       "    </tr>\n",
       "    <tr>\n",
       "      <th>...</th>\n",
       "      <td>...</td>\n",
       "      <td>...</td>\n",
       "      <td>...</td>\n",
       "      <td>...</td>\n",
       "      <td>...</td>\n",
       "    </tr>\n",
       "    <tr>\n",
       "      <th>194</th>\n",
       "      <td>195</td>\n",
       "      <td>Mozambique</td>\n",
       "      <td>164.30</td>\n",
       "      <td>155.42</td>\n",
       "      <td>159.860</td>\n",
       "    </tr>\n",
       "    <tr>\n",
       "      <th>195</th>\n",
       "      <td>196</td>\n",
       "      <td>Papua New Guinea</td>\n",
       "      <td>163.10</td>\n",
       "      <td>156.89</td>\n",
       "      <td>159.995</td>\n",
       "    </tr>\n",
       "    <tr>\n",
       "      <th>196</th>\n",
       "      <td>197</td>\n",
       "      <td>Solomon Islands</td>\n",
       "      <td>163.07</td>\n",
       "      <td>156.79</td>\n",
       "      <td>159.930</td>\n",
       "    </tr>\n",
       "    <tr>\n",
       "      <th>197</th>\n",
       "      <td>198</td>\n",
       "      <td>Laos</td>\n",
       "      <td>162.78</td>\n",
       "      <td>153.10</td>\n",
       "      <td>157.940</td>\n",
       "    </tr>\n",
       "    <tr>\n",
       "      <th>198</th>\n",
       "      <td>199</td>\n",
       "      <td>Timor-Leste</td>\n",
       "      <td>160.13</td>\n",
       "      <td>152.71</td>\n",
       "      <td>156.420</td>\n",
       "    </tr>\n",
       "  </tbody>\n",
       "</table>\n",
       "<p>199 rows × 5 columns</p>\n",
       "</div>"
      ],
      "text/plain": [
       "     Rank            Country Name  Male Height in Cm  Female Height in Cm  \\\n",
       "0       1             Netherlands             183.78               170.36   \n",
       "1       2              Montenegro             183.30               169.96   \n",
       "2       3                 Estonia             182.79               168.66   \n",
       "3       4  Bosnia and Herzegovina             182.47               167.47   \n",
       "4       5                 Iceland             182.10               168.91   \n",
       "..    ...                     ...                ...                  ...   \n",
       "194   195              Mozambique             164.30               155.42   \n",
       "195   196        Papua New Guinea             163.10               156.89   \n",
       "196   197         Solomon Islands             163.07               156.79   \n",
       "197   198                    Laos             162.78               153.10   \n",
       "198   199             Timor-Leste             160.13               152.71   \n",
       "\n",
       "     Height in Cm  \n",
       "0         177.070  \n",
       "1         176.630  \n",
       "2         175.725  \n",
       "3         174.970  \n",
       "4         175.505  \n",
       "..            ...  \n",
       "194       159.860  \n",
       "195       159.995  \n",
       "196       159.930  \n",
       "197       157.940  \n",
       "198       156.420  \n",
       "\n",
       "[199 rows x 5 columns]"
      ]
     },
     "execution_count": 4,
     "metadata": {},
     "output_type": "execute_result"
    }
   ],
   "source": [
    "df_popul['Height in Cm'] = df_popul[df_popul.columns[-2:]].mean(axis=1)\n",
    "df_popul"
   ]
  },
  {
   "cell_type": "code",
   "execution_count": 5,
   "id": "788498c3",
   "metadata": {
    "execution": {
     "iopub.execute_input": "2022-06-26T18:21:29.710417Z",
     "iopub.status.busy": "2022-06-26T18:21:29.709645Z",
     "iopub.status.idle": "2022-06-26T18:21:29.717907Z",
     "shell.execute_reply": "2022-06-26T18:21:29.716689Z"
    },
    "papermill": {
     "duration": 0.025471,
     "end_time": "2022-06-26T18:21:29.719945",
     "exception": false,
     "start_time": "2022-06-26T18:21:29.694474",
     "status": "completed"
    },
    "tags": []
   },
   "outputs": [
    {
     "data": {
      "text/plain": [
       "Rank                     int64\n",
       "Country Name            object\n",
       "Male Height in Cm      float64\n",
       "Female Height in Cm    float64\n",
       "Height in Cm           float64\n",
       "dtype: object"
      ]
     },
     "execution_count": 5,
     "metadata": {},
     "output_type": "execute_result"
    }
   ],
   "source": [
    "df_popul.dtypes"
   ]
  },
  {
   "cell_type": "code",
   "execution_count": 6,
   "id": "f4e649fd",
   "metadata": {
    "execution": {
     "iopub.execute_input": "2022-06-26T18:21:29.750220Z",
     "iopub.status.busy": "2022-06-26T18:21:29.749125Z",
     "iopub.status.idle": "2022-06-26T18:21:29.992815Z",
     "shell.execute_reply": "2022-06-26T18:21:29.991694Z"
    },
    "papermill": {
     "duration": 0.261329,
     "end_time": "2022-06-26T18:21:29.995178",
     "exception": false,
     "start_time": "2022-06-26T18:21:29.733849",
     "status": "completed"
    },
    "tags": []
   },
   "outputs": [
    {
     "data": {
      "text/plain": [
       "<AxesSubplot:ylabel='Frequency'>"
      ]
     },
     "execution_count": 6,
     "metadata": {},
     "output_type": "execute_result"
    },
    {
     "data": {
      "image/png": "[encoded data removed]",
      "text/plain": [
       "<Figure size 432x288 with 1 Axes>"
      ]
     },
     "metadata": {
      "needs_background": "light"
     },
     "output_type": "display_data"
    }
   ],
   "source": [
    "df_popul['Height in Cm'].plot.hist()"
   ]
  },
  {
   "cell_type": "code",
   "execution_count": 7,
   "id": "c2749a12",
   "metadata": {
    "execution": {
     "iopub.execute_input": "2022-06-26T18:21:30.026359Z",
     "iopub.status.busy": "2022-06-26T18:21:30.025633Z",
     "iopub.status.idle": "2022-06-26T18:21:30.051434Z",
     "shell.execute_reply": "2022-06-26T18:21:30.050315Z"
    },
    "papermill": {
     "duration": 0.044385,
     "end_time": "2022-06-26T18:21:30.053897",
     "exception": false,
     "start_time": "2022-06-26T18:21:30.009512",
     "status": "completed"
    },
    "tags": []
   },
   "outputs": [
    {
     "data": {
      "text/html": [
       "<div>\n",
       "<style scoped>\n",
       "    .dataframe tbody tr th:only-of-type {\n",
       "        vertical-align: middle;\n",
       "    }\n",
       "\n",
       "    .dataframe tbody tr th {\n",
       "        vertical-align: top;\n",
       "    }\n",
       "\n",
       "    .dataframe thead th {\n",
       "        text-align: right;\n",
       "    }\n",
       "</style>\n",
       "<table border=\"1\" class=\"dataframe\">\n",
       "  <thead>\n",
       "    <tr style=\"text-align: right;\">\n",
       "      <th></th>\n",
       "      <th>Rank</th>\n",
       "      <th>Male Height in Cm</th>\n",
       "      <th>Female Height in Cm</th>\n",
       "      <th>Height in Cm</th>\n",
       "    </tr>\n",
       "  </thead>\n",
       "  <tbody>\n",
       "    <tr>\n",
       "      <th>count</th>\n",
       "      <td>199.000000</td>\n",
       "      <td>199.000000</td>\n",
       "      <td>199.000000</td>\n",
       "      <td>199.000000</td>\n",
       "    </tr>\n",
       "    <tr>\n",
       "      <th>mean</th>\n",
       "      <td>100.000000</td>\n",
       "      <td>173.089045</td>\n",
       "      <td>160.942915</td>\n",
       "      <td>167.015980</td>\n",
       "    </tr>\n",
       "    <tr>\n",
       "      <th>std</th>\n",
       "      <td>57.590508</td>\n",
       "      <td>4.949832</td>\n",
       "      <td>4.076377</td>\n",
       "      <td>4.432794</td>\n",
       "    </tr>\n",
       "    <tr>\n",
       "      <th>min</th>\n",
       "      <td>1.000000</td>\n",
       "      <td>160.130000</td>\n",
       "      <td>150.910000</td>\n",
       "      <td>156.420000</td>\n",
       "    </tr>\n",
       "    <tr>\n",
       "      <th>25%</th>\n",
       "      <td>50.500000</td>\n",
       "      <td>169.490000</td>\n",
       "      <td>158.240000</td>\n",
       "      <td>163.892500</td>\n",
       "    </tr>\n",
       "    <tr>\n",
       "      <th>50%</th>\n",
       "      <td>100.000000</td>\n",
       "      <td>173.530000</td>\n",
       "      <td>160.620000</td>\n",
       "      <td>166.995000</td>\n",
       "    </tr>\n",
       "    <tr>\n",
       "      <th>75%</th>\n",
       "      <td>149.500000</td>\n",
       "      <td>176.510000</td>\n",
       "      <td>163.870000</td>\n",
       "      <td>170.355000</td>\n",
       "    </tr>\n",
       "    <tr>\n",
       "      <th>max</th>\n",
       "      <td>199.000000</td>\n",
       "      <td>183.780000</td>\n",
       "      <td>170.360000</td>\n",
       "      <td>177.070000</td>\n",
       "    </tr>\n",
       "  </tbody>\n",
       "</table>\n",
       "</div>"
      ],
      "text/plain": [
       "             Rank  Male Height in Cm  Female Height in Cm  Height in Cm\n",
       "count  199.000000         199.000000           199.000000    199.000000\n",
       "mean   100.000000         173.089045           160.942915    167.015980\n",
       "std     57.590508           4.949832             4.076377      4.432794\n",
       "min      1.000000         160.130000           150.910000    156.420000\n",
       "25%     50.500000         169.490000           158.240000    163.892500\n",
       "50%    100.000000         173.530000           160.620000    166.995000\n",
       "75%    149.500000         176.510000           163.870000    170.355000\n",
       "max    199.000000         183.780000           170.360000    177.070000"
      ]
     },
     "execution_count": 7,
     "metadata": {},
     "output_type": "execute_result"
    }
   ],
   "source": [
    "df_popul.describe()"
   ]
  },
  {
   "cell_type": "markdown",
   "id": "fcb7fc2e",
   "metadata": {
    "papermill": {
     "duration": 0.014591,
     "end_time": "2022-06-26T18:21:30.083035",
     "exception": false,
     "start_time": "2022-06-26T18:21:30.068444",
     "status": "completed"
    },
    "tags": []
   },
   "source": [
    "#### Sample (me and colleagues)"
   ]
  },
  {
   "cell_type": "markdown",
   "id": "dc6b7329",
   "metadata": {
    "papermill": {
     "duration": 0.014741,
     "end_time": "2022-06-26T18:21:30.113129",
     "exception": false,
     "start_time": "2022-06-26T18:21:30.098388",
     "status": "completed"
    },
    "tags": []
   },
   "source": [
    "## Z-test"
   ]
  },
  {
   "cell_type": "markdown",
   "id": "c1efcd8a",
   "metadata": {
    "papermill": {
     "duration": 0.014547,
     "end_time": "2022-06-26T18:21:30.142537",
     "exception": false,
     "start_time": "2022-06-26T18:21:30.127990",
     "status": "completed"
    },
    "tags": []
   },
   "source": [
    "Let's generate 41-elems set of our possible heights. To be able to use Z-test\n",
    "* population should be normally distributed\n",
    "* the sample size must be quite large ($n>30$)\n",
    "* elements in a sample are randomly drawn from a population\n",
    "\n",
    "*https://dfrieds.com/math/z-tests.html*"
   ]
  },
  {
   "cell_type": "code",
   "execution_count": 8,
   "id": "c03dfae3",
   "metadata": {
    "execution": {
     "iopub.execute_input": "2022-06-26T18:21:30.173938Z",
     "iopub.status.busy": "2022-06-26T18:21:30.173175Z",
     "iopub.status.idle": "2022-06-26T18:21:30.178030Z",
     "shell.execute_reply": "2022-06-26T18:21:30.177282Z"
    },
    "papermill": {
     "duration": 0.023073,
     "end_time": "2022-06-26T18:21:30.180222",
     "exception": false,
     "start_time": "2022-06-26T18:21:30.157149",
     "status": "completed"
    },
    "tags": []
   },
   "outputs": [],
   "source": [
    "import numpy as np"
   ]
  },
  {
   "cell_type": "code",
   "execution_count": 9,
   "id": "39b0bfe1",
   "metadata": {
    "execution": {
     "iopub.execute_input": "2022-06-26T18:21:30.211165Z",
     "iopub.status.busy": "2022-06-26T18:21:30.210453Z",
     "iopub.status.idle": "2022-06-26T18:21:30.215724Z",
     "shell.execute_reply": "2022-06-26T18:21:30.214909Z"
    },
    "papermill": {
     "duration": 0.02334,
     "end_time": "2022-06-26T18:21:30.217894",
     "exception": false,
     "start_time": "2022-06-26T18:21:30.194554",
     "status": "completed"
    },
    "tags": []
   },
   "outputs": [],
   "source": [
    "np.random.seed(0)\n",
    "sample_range = np.random.randint(160, 180, size=41)"
   ]
  },
  {
   "cell_type": "code",
   "execution_count": 10,
   "id": "26af7f81",
   "metadata": {
    "execution": {
     "iopub.execute_input": "2022-06-26T18:21:30.248904Z",
     "iopub.status.busy": "2022-06-26T18:21:30.248142Z",
     "iopub.status.idle": "2022-06-26T18:21:30.257402Z",
     "shell.execute_reply": "2022-06-26T18:21:30.256458Z"
    },
    "papermill": {
     "duration": 0.027417,
     "end_time": "2022-06-26T18:21:30.259578",
     "exception": false,
     "start_time": "2022-06-26T18:21:30.232161",
     "status": "completed"
    },
    "tags": []
   },
   "outputs": [
    {
     "data": {
      "text/html": [
       "<div>\n",
       "<style scoped>\n",
       "    .dataframe tbody tr th:only-of-type {\n",
       "        vertical-align: middle;\n",
       "    }\n",
       "\n",
       "    .dataframe tbody tr th {\n",
       "        vertical-align: top;\n",
       "    }\n",
       "\n",
       "    .dataframe thead th {\n",
       "        text-align: right;\n",
       "    }\n",
       "</style>\n",
       "<table border=\"1\" class=\"dataframe\">\n",
       "  <thead>\n",
       "    <tr style=\"text-align: right;\">\n",
       "      <th></th>\n",
       "      <th>0</th>\n",
       "    </tr>\n",
       "  </thead>\n",
       "  <tbody>\n",
       "    <tr>\n",
       "      <th>0</th>\n",
       "      <td>172</td>\n",
       "    </tr>\n",
       "    <tr>\n",
       "      <th>1</th>\n",
       "      <td>175</td>\n",
       "    </tr>\n",
       "    <tr>\n",
       "      <th>2</th>\n",
       "      <td>160</td>\n",
       "    </tr>\n",
       "    <tr>\n",
       "      <th>3</th>\n",
       "      <td>163</td>\n",
       "    </tr>\n",
       "    <tr>\n",
       "      <th>4</th>\n",
       "      <td>163</td>\n",
       "    </tr>\n",
       "  </tbody>\n",
       "</table>\n",
       "</div>"
      ],
      "text/plain": [
       "     0\n",
       "0  172\n",
       "1  175\n",
       "2  160\n",
       "3  163\n",
       "4  163"
      ]
     },
     "execution_count": 10,
     "metadata": {},
     "output_type": "execute_result"
    }
   ],
   "source": [
    "df_sample = pd.DataFrame(sample_range)\n",
    "df_sample.head(5)"
   ]
  },
  {
   "cell_type": "code",
   "execution_count": 11,
   "id": "fa1ab786",
   "metadata": {
    "execution": {
     "iopub.execute_input": "2022-06-26T18:21:30.290972Z",
     "iopub.status.busy": "2022-06-26T18:21:30.290216Z",
     "iopub.status.idle": "2022-06-26T18:21:30.303931Z",
     "shell.execute_reply": "2022-06-26T18:21:30.302980Z"
    },
    "papermill": {
     "duration": 0.032081,
     "end_time": "2022-06-26T18:21:30.306136",
     "exception": false,
     "start_time": "2022-06-26T18:21:30.274055",
     "status": "completed"
    },
    "tags": []
   },
   "outputs": [
    {
     "data": {
      "text/html": [
       "<div>\n",
       "<style scoped>\n",
       "    .dataframe tbody tr th:only-of-type {\n",
       "        vertical-align: middle;\n",
       "    }\n",
       "\n",
       "    .dataframe tbody tr th {\n",
       "        vertical-align: top;\n",
       "    }\n",
       "\n",
       "    .dataframe thead th {\n",
       "        text-align: right;\n",
       "    }\n",
       "</style>\n",
       "<table border=\"1\" class=\"dataframe\">\n",
       "  <thead>\n",
       "    <tr style=\"text-align: right;\">\n",
       "      <th></th>\n",
       "      <th>0</th>\n",
       "    </tr>\n",
       "  </thead>\n",
       "  <tbody>\n",
       "    <tr>\n",
       "      <th>count</th>\n",
       "      <td>41.000000</td>\n",
       "    </tr>\n",
       "    <tr>\n",
       "      <th>mean</th>\n",
       "      <td>170.073171</td>\n",
       "    </tr>\n",
       "    <tr>\n",
       "      <th>std</th>\n",
       "      <td>6.581756</td>\n",
       "    </tr>\n",
       "    <tr>\n",
       "      <th>min</th>\n",
       "      <td>160.000000</td>\n",
       "    </tr>\n",
       "    <tr>\n",
       "      <th>25%</th>\n",
       "      <td>165.000000</td>\n",
       "    </tr>\n",
       "    <tr>\n",
       "      <th>50%</th>\n",
       "      <td>169.000000</td>\n",
       "    </tr>\n",
       "    <tr>\n",
       "      <th>75%</th>\n",
       "      <td>176.000000</td>\n",
       "    </tr>\n",
       "    <tr>\n",
       "      <th>max</th>\n",
       "      <td>179.000000</td>\n",
       "    </tr>\n",
       "  </tbody>\n",
       "</table>\n",
       "</div>"
      ],
      "text/plain": [
       "                0\n",
       "count   41.000000\n",
       "mean   170.073171\n",
       "std      6.581756\n",
       "min    160.000000\n",
       "25%    165.000000\n",
       "50%    169.000000\n",
       "75%    176.000000\n",
       "max    179.000000"
      ]
     },
     "execution_count": 11,
     "metadata": {},
     "output_type": "execute_result"
    }
   ],
   "source": [
    "df_sample.describe()"
   ]
  },
  {
   "cell_type": "markdown",
   "id": "399b1a56",
   "metadata": {
    "papermill": {
     "duration": 0.014535,
     "end_time": "2022-06-26T18:21:30.335320",
     "exception": false,
     "start_time": "2022-06-26T18:21:30.320785",
     "status": "completed"
    },
    "tags": []
   },
   "source": [
    "Let's summarize our data"
   ]
  },
  {
   "cell_type": "code",
   "execution_count": 12,
   "id": "6ec78b3e",
   "metadata": {
    "execution": {
     "iopub.execute_input": "2022-06-26T18:21:30.367171Z",
     "iopub.status.busy": "2022-06-26T18:21:30.366444Z",
     "iopub.status.idle": "2022-06-26T18:21:30.400578Z",
     "shell.execute_reply": "2022-06-26T18:21:30.399549Z"
    },
    "papermill": {
     "duration": 0.05294,
     "end_time": "2022-06-26T18:21:30.403052",
     "exception": false,
     "start_time": "2022-06-26T18:21:30.350112",
     "status": "completed"
    },
    "tags": []
   },
   "outputs": [],
   "source": [
    "popul_std = round(df_popul.describe()['Height in Cm']['std'],2)\n",
    "popul_mean = round(df_popul.describe()['Height in Cm']['mean'],2)\n",
    "sample_std = round(df_sample.describe()[0]['std'],2)\n",
    "sample_mean = round(df_sample.describe()[0]['mean'],2)\n",
    "significance_lvl = 0.05\n",
    "n = 41"
   ]
  },
  {
   "cell_type": "code",
   "execution_count": 13,
   "id": "61478b32",
   "metadata": {
    "execution": {
     "iopub.execute_input": "2022-06-26T18:21:30.434964Z",
     "iopub.status.busy": "2022-06-26T18:21:30.434203Z",
     "iopub.status.idle": "2022-06-26T18:21:30.443537Z",
     "shell.execute_reply": "2022-06-26T18:21:30.442708Z"
    },
    "papermill": {
     "duration": 0.027873,
     "end_time": "2022-06-26T18:21:30.445673",
     "exception": false,
     "start_time": "2022-06-26T18:21:30.417800",
     "status": "completed"
    },
    "tags": []
   },
   "outputs": [
    {
     "data": {
      "text/plain": [
       "popul_std             4.43\n",
       "popul_mean          167.02\n",
       "sample_std            6.58\n",
       "sample_mean         170.07\n",
       "significance_lvl      0.05\n",
       "n                    41.00\n",
       "dtype: float64"
      ]
     },
     "execution_count": 13,
     "metadata": {},
     "output_type": "execute_result"
    }
   ],
   "source": [
    "pd.Series(data={\n",
    "    \"popul_std\": popul_std,\n",
    "    \"popul_mean\": popul_mean,\n",
    "    \"sample_std\": sample_std,\n",
    "    \"sample_mean\": sample_mean,\n",
    "    \"significance_lvl\": significance_lvl,\n",
    "    \"n\": n,\n",
    "    })"
   ]
  },
  {
   "cell_type": "markdown",
   "id": "507768dc",
   "metadata": {
    "papermill": {
     "duration": 0.015042,
     "end_time": "2022-06-26T18:21:30.475533",
     "exception": false,
     "start_time": "2022-06-26T18:21:30.460491",
     "status": "completed"
    },
    "tags": []
   },
   "source": [
    "## Z-test requirements:\n",
    "1. Population's std and mean are known\n",
    "2. Population are normally distributed\n",
    "3. Sample size is greater than 30\n",
    "4. Sample elements were drawn randomly from a population\n",
    "5. Sample mean is known <br><br>\n",
    "All above are fullfilled."
   ]
  },
  {
   "cell_type": "markdown",
   "id": "e760b536",
   "metadata": {
    "papermill": {
     "duration": 0.015155,
     "end_time": "2022-06-26T18:21:30.505762",
     "exception": false,
     "start_time": "2022-06-26T18:21:30.490607",
     "status": "completed"
    },
    "tags": []
   },
   "source": [
    "### By hand"
   ]
  },
  {
   "attachments": {
    "1954739a-32e5-4f86-b713-bbadb82ace13.png": {
     "image/png": "[encoded data removed]"
    },
    "db82d6d5-7025-46ca-b2d0-1f6dc00f762b.png": {
     "image/png": "[encoded data removed]"
    }
   },
   "cell_type": "markdown",
   "id": "ed1341f5",
   "metadata": {
    "papermill": {
     "duration": 0.014956,
     "end_time": "2022-06-26T18:21:30.535940",
     "exception": false,
     "start_time": "2022-06-26T18:21:30.520984",
     "status": "completed"
    },
    "tags": []
   },
   "source": [
    "Hypothesis: <br>\n",
    "$H_0 = \\mu \\leq 167.02$ <br>\n",
    "$H_1 = \\mu > 167.02$ --> upper-tailed test <br>\n",
    "![image.png](attachment:1954739a-32e5-4f86-b713-bbadb82ace13.png)\n",
    "\n",
    "Default significance lvl = 95% --> $\\alpha = 0.05$ <br>\n",
    "\n",
    "$SSE$ = sum of squares error <br>\n",
    "$Z_{statistic} = \\frac{\\overline{x}-\\mu}{SSE}$ = $\\frac{\\overline{x}-\\mu}{\\frac{\\sigma}{\\sqrt{n}}}$ = $\\frac{170.07-167.02}{4.43\\div\\sqrt{41}}=4.408$ <br>\n",
    "![image.png](attachment:db82d6d5-7025-46ca-b2d0-1f6dc00f762b.png) <br>\n",
    "$Z_{critical} = 1.645$ <br> <br>\n",
    "\n",
    "*https://sphweb.bumc.bu.edu/otlt/mph-modules/bs/bs704_hypothesistest-means-proportions/bs704_hypothesistest-means-proportions3.html*\n",
    "\n",
    "Since 4.408 is within the right range ($4.408>1.645$) we reject our $H_0$. It means that our average height is significant higher."
   ]
  },
  {
   "cell_type": "markdown",
   "id": "fe01ab7f",
   "metadata": {
    "papermill": {
     "duration": 0.014916,
     "end_time": "2022-06-26T18:21:30.565872",
     "exception": false,
     "start_time": "2022-06-26T18:21:30.550956",
     "status": "completed"
    },
    "tags": []
   },
   "source": [
    "### With Python"
   ]
  },
  {
   "cell_type": "code",
   "execution_count": 14,
   "id": "67dcff39",
   "metadata": {
    "execution": {
     "iopub.execute_input": "2022-06-26T18:21:30.599120Z",
     "iopub.status.busy": "2022-06-26T18:21:30.598374Z",
     "iopub.status.idle": "2022-06-26T18:21:31.431618Z",
     "shell.execute_reply": "2022-06-26T18:21:31.430466Z"
    },
    "papermill": {
     "duration": 0.853515,
     "end_time": "2022-06-26T18:21:31.434615",
     "exception": false,
     "start_time": "2022-06-26T18:21:30.581100",
     "status": "completed"
    },
    "tags": []
   },
   "outputs": [],
   "source": [
    "from scipy import stats"
   ]
  },
  {
   "cell_type": "code",
   "execution_count": 15,
   "id": "a3d9f2f9",
   "metadata": {
    "execution": {
     "iopub.execute_input": "2022-06-26T18:21:31.467058Z",
     "iopub.status.busy": "2022-06-26T18:21:31.466390Z",
     "iopub.status.idle": "2022-06-26T18:21:31.473904Z",
     "shell.execute_reply": "2022-06-26T18:21:31.473039Z"
    },
    "papermill": {
     "duration": 0.026453,
     "end_time": "2022-06-26T18:21:31.476090",
     "exception": false,
     "start_time": "2022-06-26T18:21:31.449637",
     "status": "completed"
    },
    "tags": []
   },
   "outputs": [
    {
     "data": {
      "text/plain": [
       "4.4084715404447135"
      ]
     },
     "execution_count": 15,
     "metadata": {},
     "output_type": "execute_result"
    }
   ],
   "source": [
    "sse = popul_std / np.sqrt(n)\n",
    "z_score = (sample_mean - popul_mean)/sse\n",
    "z_score"
   ]
  },
  {
   "cell_type": "code",
   "execution_count": 16,
   "id": "565e5ca2",
   "metadata": {
    "execution": {
     "iopub.execute_input": "2022-06-26T18:21:31.509116Z",
     "iopub.status.busy": "2022-06-26T18:21:31.508340Z",
     "iopub.status.idle": "2022-06-26T18:21:31.516298Z",
     "shell.execute_reply": "2022-06-26T18:21:31.515330Z"
    },
    "papermill": {
     "duration": 0.027351,
     "end_time": "2022-06-26T18:21:31.518504",
     "exception": false,
     "start_time": "2022-06-26T18:21:31.491153",
     "status": "completed"
    },
    "tags": []
   },
   "outputs": [
    {
     "data": {
      "text/plain": [
       "1.6448536269514729"
      ]
     },
     "execution_count": 16,
     "metadata": {},
     "output_type": "execute_result"
    }
   ],
   "source": [
    "z_critical = (-1)*stats.norm.ppf(0.05)\n",
    "z_critical"
   ]
  },
  {
   "cell_type": "markdown",
   "id": "d8e6fdfe",
   "metadata": {
    "papermill": {
     "duration": 0.015149,
     "end_time": "2022-06-26T18:21:31.549947",
     "exception": false,
     "start_time": "2022-06-26T18:21:31.534798",
     "status": "completed"
    },
    "tags": []
   },
   "source": [
    "### Answer:\n",
    "Our average height is significant higher than population's height."
   ]
  },
  {
   "cell_type": "markdown",
   "id": "8442d5ae",
   "metadata": {
    "papermill": {
     "duration": 0.014969,
     "end_time": "2022-06-26T18:21:31.580403",
     "exception": false,
     "start_time": "2022-06-26T18:21:31.565434",
     "status": "completed"
    },
    "tags": []
   },
   "source": [
    "Test for other significance levels."
   ]
  },
  {
   "cell_type": "code",
   "execution_count": 17,
   "id": "79bb4b28",
   "metadata": {
    "execution": {
     "iopub.execute_input": "2022-06-26T18:21:31.614303Z",
     "iopub.status.busy": "2022-06-26T18:21:31.613586Z",
     "iopub.status.idle": "2022-06-26T18:21:31.619629Z",
     "shell.execute_reply": "2022-06-26T18:21:31.618883Z"
    },
    "papermill": {
     "duration": 0.024937,
     "end_time": "2022-06-26T18:21:31.621739",
     "exception": false,
     "start_time": "2022-06-26T18:21:31.596802",
     "status": "completed"
    },
    "tags": []
   },
   "outputs": [
    {
     "data": {
      "text/plain": [
       "-2.3263478740408408"
      ]
     },
     "execution_count": 17,
     "metadata": {},
     "output_type": "execute_result"
    }
   ],
   "source": [
    "stats.norm.ppf(0.01) # significance lvl = 99%"
   ]
  },
  {
   "cell_type": "markdown",
   "id": "cfb5d9b8",
   "metadata": {
    "papermill": {
     "duration": 0.015086,
     "end_time": "2022-06-26T18:21:31.652635",
     "exception": false,
     "start_time": "2022-06-26T18:21:31.637549",
     "status": "completed"
    },
    "tags": []
   },
   "source": [
    "Test for other samples."
   ]
  },
  {
   "cell_type": "code",
   "execution_count": 18,
   "id": "8d7a6a1a",
   "metadata": {
    "execution": {
     "iopub.execute_input": "2022-06-26T18:21:31.685316Z",
     "iopub.status.busy": "2022-06-26T18:21:31.684884Z",
     "iopub.status.idle": "2022-06-26T18:21:31.694062Z",
     "shell.execute_reply": "2022-06-26T18:21:31.692755Z"
    },
    "papermill": {
     "duration": 0.02821,
     "end_time": "2022-06-26T18:21:31.696373",
     "exception": false,
     "start_time": "2022-06-26T18:21:31.668163",
     "status": "completed"
    },
    "tags": []
   },
   "outputs": [
    {
     "data": {
      "text/plain": [
       "14"
      ]
     },
     "execution_count": 18,
     "metadata": {},
     "output_type": "execute_result"
    }
   ],
   "source": [
    "test_sample_mean_list = [170.07-i for i in np.arange(0,10,0.2)[1:]]\n",
    "\n",
    "ind_list = []\n",
    "for ind, item in enumerate(test_sample_mean_list):\n",
    "    if item > popul_mean:\n",
    "        ind_list.append(ind)\n",
    "ind_max = max(ind_list)\n",
    "ind_max"
   ]
  },
  {
   "cell_type": "code",
   "execution_count": 19,
   "id": "a3cfa414",
   "metadata": {
    "execution": {
     "iopub.execute_input": "2022-06-26T18:21:31.729780Z",
     "iopub.status.busy": "2022-06-26T18:21:31.729130Z",
     "iopub.status.idle": "2022-06-26T18:21:31.734209Z",
     "shell.execute_reply": "2022-06-26T18:21:31.733420Z"
    },
    "papermill": {
     "duration": 0.024383,
     "end_time": "2022-06-26T18:21:31.736421",
     "exception": false,
     "start_time": "2022-06-26T18:21:31.712038",
     "status": "completed"
    },
    "tags": []
   },
   "outputs": [],
   "source": [
    "test_sample_mean_list = test_sample_mean_list[:ind_max+1]"
   ]
  },
  {
   "cell_type": "code",
   "execution_count": 20,
   "id": "082a5e68",
   "metadata": {
    "execution": {
     "iopub.execute_input": "2022-06-26T18:21:31.770067Z",
     "iopub.status.busy": "2022-06-26T18:21:31.768860Z",
     "iopub.status.idle": "2022-06-26T18:21:31.789067Z",
     "shell.execute_reply": "2022-06-26T18:21:31.787942Z"
    },
    "papermill": {
     "duration": 0.039023,
     "end_time": "2022-06-26T18:21:31.791214",
     "exception": false,
     "start_time": "2022-06-26T18:21:31.752191",
     "status": "completed"
    },
    "tags": []
   },
   "outputs": [
    {
     "data": {
      "text/html": [
       "<div>\n",
       "<style scoped>\n",
       "    .dataframe tbody tr th:only-of-type {\n",
       "        vertical-align: middle;\n",
       "    }\n",
       "\n",
       "    .dataframe tbody tr th {\n",
       "        vertical-align: top;\n",
       "    }\n",
       "\n",
       "    .dataframe thead th {\n",
       "        text-align: right;\n",
       "    }\n",
       "</style>\n",
       "<table border=\"1\" class=\"dataframe\">\n",
       "  <thead>\n",
       "    <tr style=\"text-align: right;\">\n",
       "      <th></th>\n",
       "      <th>popul_std</th>\n",
       "      <th>popul_mean</th>\n",
       "      <th>sample_mean</th>\n",
       "      <th>significance_lvl</th>\n",
       "      <th>n</th>\n",
       "    </tr>\n",
       "  </thead>\n",
       "  <tbody>\n",
       "    <tr>\n",
       "      <th>0</th>\n",
       "      <td>4.43</td>\n",
       "      <td>167.02</td>\n",
       "      <td>169.87</td>\n",
       "      <td>0.05</td>\n",
       "      <td>41</td>\n",
       "    </tr>\n",
       "    <tr>\n",
       "      <th>1</th>\n",
       "      <td>4.43</td>\n",
       "      <td>167.02</td>\n",
       "      <td>169.67</td>\n",
       "      <td>0.05</td>\n",
       "      <td>41</td>\n",
       "    </tr>\n",
       "    <tr>\n",
       "      <th>2</th>\n",
       "      <td>4.43</td>\n",
       "      <td>167.02</td>\n",
       "      <td>169.47</td>\n",
       "      <td>0.05</td>\n",
       "      <td>41</td>\n",
       "    </tr>\n",
       "    <tr>\n",
       "      <th>3</th>\n",
       "      <td>4.43</td>\n",
       "      <td>167.02</td>\n",
       "      <td>169.27</td>\n",
       "      <td>0.05</td>\n",
       "      <td>41</td>\n",
       "    </tr>\n",
       "    <tr>\n",
       "      <th>4</th>\n",
       "      <td>4.43</td>\n",
       "      <td>167.02</td>\n",
       "      <td>169.07</td>\n",
       "      <td>0.05</td>\n",
       "      <td>41</td>\n",
       "    </tr>\n",
       "    <tr>\n",
       "      <th>5</th>\n",
       "      <td>4.43</td>\n",
       "      <td>167.02</td>\n",
       "      <td>168.87</td>\n",
       "      <td>0.05</td>\n",
       "      <td>41</td>\n",
       "    </tr>\n",
       "    <tr>\n",
       "      <th>6</th>\n",
       "      <td>4.43</td>\n",
       "      <td>167.02</td>\n",
       "      <td>168.67</td>\n",
       "      <td>0.05</td>\n",
       "      <td>41</td>\n",
       "    </tr>\n",
       "    <tr>\n",
       "      <th>7</th>\n",
       "      <td>4.43</td>\n",
       "      <td>167.02</td>\n",
       "      <td>168.47</td>\n",
       "      <td>0.05</td>\n",
       "      <td>41</td>\n",
       "    </tr>\n",
       "    <tr>\n",
       "      <th>8</th>\n",
       "      <td>4.43</td>\n",
       "      <td>167.02</td>\n",
       "      <td>168.27</td>\n",
       "      <td>0.05</td>\n",
       "      <td>41</td>\n",
       "    </tr>\n",
       "    <tr>\n",
       "      <th>9</th>\n",
       "      <td>4.43</td>\n",
       "      <td>167.02</td>\n",
       "      <td>168.07</td>\n",
       "      <td>0.05</td>\n",
       "      <td>41</td>\n",
       "    </tr>\n",
       "    <tr>\n",
       "      <th>10</th>\n",
       "      <td>4.43</td>\n",
       "      <td>167.02</td>\n",
       "      <td>167.87</td>\n",
       "      <td>0.05</td>\n",
       "      <td>41</td>\n",
       "    </tr>\n",
       "    <tr>\n",
       "      <th>11</th>\n",
       "      <td>4.43</td>\n",
       "      <td>167.02</td>\n",
       "      <td>167.67</td>\n",
       "      <td>0.05</td>\n",
       "      <td>41</td>\n",
       "    </tr>\n",
       "    <tr>\n",
       "      <th>12</th>\n",
       "      <td>4.43</td>\n",
       "      <td>167.02</td>\n",
       "      <td>167.47</td>\n",
       "      <td>0.05</td>\n",
       "      <td>41</td>\n",
       "    </tr>\n",
       "    <tr>\n",
       "      <th>13</th>\n",
       "      <td>4.43</td>\n",
       "      <td>167.02</td>\n",
       "      <td>167.27</td>\n",
       "      <td>0.05</td>\n",
       "      <td>41</td>\n",
       "    </tr>\n",
       "    <tr>\n",
       "      <th>14</th>\n",
       "      <td>4.43</td>\n",
       "      <td>167.02</td>\n",
       "      <td>167.07</td>\n",
       "      <td>0.05</td>\n",
       "      <td>41</td>\n",
       "    </tr>\n",
       "  </tbody>\n",
       "</table>\n",
       "</div>"
      ],
      "text/plain": [
       "    popul_std  popul_mean  sample_mean  significance_lvl   n\n",
       "0        4.43      167.02       169.87              0.05  41\n",
       "1        4.43      167.02       169.67              0.05  41\n",
       "2        4.43      167.02       169.47              0.05  41\n",
       "3        4.43      167.02       169.27              0.05  41\n",
       "4        4.43      167.02       169.07              0.05  41\n",
       "5        4.43      167.02       168.87              0.05  41\n",
       "6        4.43      167.02       168.67              0.05  41\n",
       "7        4.43      167.02       168.47              0.05  41\n",
       "8        4.43      167.02       168.27              0.05  41\n",
       "9        4.43      167.02       168.07              0.05  41\n",
       "10       4.43      167.02       167.87              0.05  41\n",
       "11       4.43      167.02       167.67              0.05  41\n",
       "12       4.43      167.02       167.47              0.05  41\n",
       "13       4.43      167.02       167.27              0.05  41\n",
       "14       4.43      167.02       167.07              0.05  41"
      ]
     },
     "execution_count": 20,
     "metadata": {},
     "output_type": "execute_result"
    }
   ],
   "source": [
    "sample_test_df = pd.DataFrame(data={\n",
    "    \"popul_std\": popul_std,\n",
    "    \"popul_mean\": popul_mean,\n",
    "    \"sample_mean\": test_sample_mean_list,\n",
    "    \"significance_lvl\": 0.05,\n",
    "    \"n\": n,\n",
    "    })\n",
    "sample_test_df"
   ]
  },
  {
   "cell_type": "code",
   "execution_count": 21,
   "id": "47f6bdf1",
   "metadata": {
    "execution": {
     "iopub.execute_input": "2022-06-26T18:21:31.825795Z",
     "iopub.status.busy": "2022-06-26T18:21:31.825173Z",
     "iopub.status.idle": "2022-06-26T18:21:31.833219Z",
     "shell.execute_reply": "2022-06-26T18:21:31.832331Z"
    },
    "papermill": {
     "duration": 0.02845,
     "end_time": "2022-06-26T18:21:31.835537",
     "exception": false,
     "start_time": "2022-06-26T18:21:31.807087",
     "status": "completed"
    },
    "tags": []
   },
   "outputs": [],
   "source": [
    "sample_test_df['sse'] = sse\n",
    "sample_test_df['z_critical'] = (-1)*stats.norm.ppf(0.05)\n",
    "sample_test_df['z_score'] = (sample_test_df['sample_mean'] - sample_test_df['popul_mean'])/sample_test_df['sse']"
   ]
  },
  {
   "cell_type": "code",
   "execution_count": 22,
   "id": "7729fcdd",
   "metadata": {
    "execution": {
     "iopub.execute_input": "2022-06-26T18:21:31.869164Z",
     "iopub.status.busy": "2022-06-26T18:21:31.868548Z",
     "iopub.status.idle": "2022-06-26T18:21:31.886204Z",
     "shell.execute_reply": "2022-06-26T18:21:31.885084Z"
    },
    "papermill": {
     "duration": 0.036968,
     "end_time": "2022-06-26T18:21:31.888372",
     "exception": false,
     "start_time": "2022-06-26T18:21:31.851404",
     "status": "completed"
    },
    "tags": []
   },
   "outputs": [
    {
     "data": {
      "text/html": [
       "<div>\n",
       "<style scoped>\n",
       "    .dataframe tbody tr th:only-of-type {\n",
       "        vertical-align: middle;\n",
       "    }\n",
       "\n",
       "    .dataframe tbody tr th {\n",
       "        vertical-align: top;\n",
       "    }\n",
       "\n",
       "    .dataframe thead th {\n",
       "        text-align: right;\n",
       "    }\n",
       "</style>\n",
       "<table border=\"1\" class=\"dataframe\">\n",
       "  <thead>\n",
       "    <tr style=\"text-align: right;\">\n",
       "      <th></th>\n",
       "      <th>popul_std</th>\n",
       "      <th>popul_mean</th>\n",
       "      <th>sample_mean</th>\n",
       "      <th>significance_lvl</th>\n",
       "      <th>n</th>\n",
       "      <th>sse</th>\n",
       "      <th>z_critical</th>\n",
       "      <th>z_score</th>\n",
       "    </tr>\n",
       "  </thead>\n",
       "  <tbody>\n",
       "    <tr>\n",
       "      <th>9</th>\n",
       "      <td>4.43</td>\n",
       "      <td>167.02</td>\n",
       "      <td>168.07</td>\n",
       "      <td>0.05</td>\n",
       "      <td>41</td>\n",
       "      <td>0.69185</td>\n",
       "      <td>1.644854</td>\n",
       "      <td>1.517671</td>\n",
       "    </tr>\n",
       "    <tr>\n",
       "      <th>10</th>\n",
       "      <td>4.43</td>\n",
       "      <td>167.02</td>\n",
       "      <td>167.87</td>\n",
       "      <td>0.05</td>\n",
       "      <td>41</td>\n",
       "      <td>0.69185</td>\n",
       "      <td>1.644854</td>\n",
       "      <td>1.228590</td>\n",
       "    </tr>\n",
       "    <tr>\n",
       "      <th>11</th>\n",
       "      <td>4.43</td>\n",
       "      <td>167.02</td>\n",
       "      <td>167.67</td>\n",
       "      <td>0.05</td>\n",
       "      <td>41</td>\n",
       "      <td>0.69185</td>\n",
       "      <td>1.644854</td>\n",
       "      <td>0.939510</td>\n",
       "    </tr>\n",
       "    <tr>\n",
       "      <th>12</th>\n",
       "      <td>4.43</td>\n",
       "      <td>167.02</td>\n",
       "      <td>167.47</td>\n",
       "      <td>0.05</td>\n",
       "      <td>41</td>\n",
       "      <td>0.69185</td>\n",
       "      <td>1.644854</td>\n",
       "      <td>0.650430</td>\n",
       "    </tr>\n",
       "    <tr>\n",
       "      <th>13</th>\n",
       "      <td>4.43</td>\n",
       "      <td>167.02</td>\n",
       "      <td>167.27</td>\n",
       "      <td>0.05</td>\n",
       "      <td>41</td>\n",
       "      <td>0.69185</td>\n",
       "      <td>1.644854</td>\n",
       "      <td>0.361350</td>\n",
       "    </tr>\n",
       "    <tr>\n",
       "      <th>14</th>\n",
       "      <td>4.43</td>\n",
       "      <td>167.02</td>\n",
       "      <td>167.07</td>\n",
       "      <td>0.05</td>\n",
       "      <td>41</td>\n",
       "      <td>0.69185</td>\n",
       "      <td>1.644854</td>\n",
       "      <td>0.072270</td>\n",
       "    </tr>\n",
       "  </tbody>\n",
       "</table>\n",
       "</div>"
      ],
      "text/plain": [
       "    popul_std  popul_mean  sample_mean  significance_lvl   n      sse  \\\n",
       "9        4.43      167.02       168.07              0.05  41  0.69185   \n",
       "10       4.43      167.02       167.87              0.05  41  0.69185   \n",
       "11       4.43      167.02       167.67              0.05  41  0.69185   \n",
       "12       4.43      167.02       167.47              0.05  41  0.69185   \n",
       "13       4.43      167.02       167.27              0.05  41  0.69185   \n",
       "14       4.43      167.02       167.07              0.05  41  0.69185   \n",
       "\n",
       "    z_critical   z_score  \n",
       "9     1.644854  1.517671  \n",
       "10    1.644854  1.228590  \n",
       "11    1.644854  0.939510  \n",
       "12    1.644854  0.650430  \n",
       "13    1.644854  0.361350  \n",
       "14    1.644854  0.072270  "
      ]
     },
     "execution_count": 22,
     "metadata": {},
     "output_type": "execute_result"
    }
   ],
   "source": [
    "sample_test_df.loc[(sample_test_df['z_score'] < sample_test_df['z_critical'])]"
   ]
  },
  {
   "cell_type": "markdown",
   "id": "a299790c",
   "metadata": {
    "papermill": {
     "duration": 0.015554,
     "end_time": "2022-06-26T18:21:31.919908",
     "exception": false,
     "start_time": "2022-06-26T18:21:31.904354",
     "status": "completed"
    },
    "tags": []
   },
   "source": [
    "In case out average height was less then 168.07cm, then we would fail to reject $H_0$ and our height wouldn't be significant higher."
   ]
  },
  {
   "cell_type": "markdown",
   "id": "f3389216",
   "metadata": {
    "papermill": {
     "duration": 0.015603,
     "end_time": "2022-06-26T18:21:31.951431",
     "exception": false,
     "start_time": "2022-06-26T18:21:31.935828",
     "status": "completed"
    },
    "tags": []
   },
   "source": [
    "Now, let's consider smaller sample: 10-elems sized."
   ]
  },
  {
   "cell_type": "markdown",
   "id": "93795e1d",
   "metadata": {
    "papermill": {
     "duration": 0.016042,
     "end_time": "2022-06-26T18:21:31.983561",
     "exception": false,
     "start_time": "2022-06-26T18:21:31.967519",
     "status": "completed"
    },
    "tags": []
   },
   "source": [
    "## T-test (One-sample)"
   ]
  },
  {
   "cell_type": "code",
   "execution_count": 23,
   "id": "c533a8d9",
   "metadata": {
    "execution": {
     "iopub.execute_input": "2022-06-26T18:21:32.018290Z",
     "iopub.status.busy": "2022-06-26T18:21:32.017875Z",
     "iopub.status.idle": "2022-06-26T18:21:32.029422Z",
     "shell.execute_reply": "2022-06-26T18:21:32.028311Z"
    },
    "papermill": {
     "duration": 0.032298,
     "end_time": "2022-06-26T18:21:32.031848",
     "exception": false,
     "start_time": "2022-06-26T18:21:31.999550",
     "status": "completed"
    },
    "tags": []
   },
   "outputs": [
    {
     "data": {
      "text/html": [
       "<div>\n",
       "<style scoped>\n",
       "    .dataframe tbody tr th:only-of-type {\n",
       "        vertical-align: middle;\n",
       "    }\n",
       "\n",
       "    .dataframe tbody tr th {\n",
       "        vertical-align: top;\n",
       "    }\n",
       "\n",
       "    .dataframe thead th {\n",
       "        text-align: right;\n",
       "    }\n",
       "</style>\n",
       "<table border=\"1\" class=\"dataframe\">\n",
       "  <thead>\n",
       "    <tr style=\"text-align: right;\">\n",
       "      <th></th>\n",
       "      <th>0</th>\n",
       "    </tr>\n",
       "  </thead>\n",
       "  <tbody>\n",
       "    <tr>\n",
       "      <th>0</th>\n",
       "      <td>172</td>\n",
       "    </tr>\n",
       "    <tr>\n",
       "      <th>1</th>\n",
       "      <td>175</td>\n",
       "    </tr>\n",
       "    <tr>\n",
       "      <th>2</th>\n",
       "      <td>160</td>\n",
       "    </tr>\n",
       "    <tr>\n",
       "      <th>3</th>\n",
       "      <td>163</td>\n",
       "    </tr>\n",
       "    <tr>\n",
       "      <th>4</th>\n",
       "      <td>163</td>\n",
       "    </tr>\n",
       "  </tbody>\n",
       "</table>\n",
       "</div>"
      ],
      "text/plain": [
       "     0\n",
       "0  172\n",
       "1  175\n",
       "2  160\n",
       "3  163\n",
       "4  163"
      ]
     },
     "execution_count": 23,
     "metadata": {},
     "output_type": "execute_result"
    }
   ],
   "source": [
    "np.random.seed(0)\n",
    "small_sample_range = np.random.randint(160, 180, size=10)\n",
    "\n",
    "df_small_sample = pd.DataFrame(small_sample_range)\n",
    "df_small_sample.head(5)"
   ]
  },
  {
   "cell_type": "code",
   "execution_count": 24,
   "id": "fea0749e",
   "metadata": {
    "execution": {
     "iopub.execute_input": "2022-06-26T18:21:32.066535Z",
     "iopub.status.busy": "2022-06-26T18:21:32.065787Z",
     "iopub.status.idle": "2022-06-26T18:21:32.079695Z",
     "shell.execute_reply": "2022-06-26T18:21:32.078623Z"
    },
    "papermill": {
     "duration": 0.034029,
     "end_time": "2022-06-26T18:21:32.081932",
     "exception": false,
     "start_time": "2022-06-26T18:21:32.047903",
     "status": "completed"
    },
    "tags": []
   },
   "outputs": [
    {
     "data": {
      "text/html": [
       "<div>\n",
       "<style scoped>\n",
       "    .dataframe tbody tr th:only-of-type {\n",
       "        vertical-align: middle;\n",
       "    }\n",
       "\n",
       "    .dataframe tbody tr th {\n",
       "        vertical-align: top;\n",
       "    }\n",
       "\n",
       "    .dataframe thead th {\n",
       "        text-align: right;\n",
       "    }\n",
       "</style>\n",
       "<table border=\"1\" class=\"dataframe\">\n",
       "  <thead>\n",
       "    <tr style=\"text-align: right;\">\n",
       "      <th></th>\n",
       "      <th>0</th>\n",
       "    </tr>\n",
       "  </thead>\n",
       "  <tbody>\n",
       "    <tr>\n",
       "      <th>count</th>\n",
       "      <td>10.000000</td>\n",
       "    </tr>\n",
       "    <tr>\n",
       "      <th>mean</th>\n",
       "      <td>169.000000</td>\n",
       "    </tr>\n",
       "    <tr>\n",
       "      <th>std</th>\n",
       "      <td>6.733003</td>\n",
       "    </tr>\n",
       "    <tr>\n",
       "      <th>min</th>\n",
       "      <td>160.000000</td>\n",
       "    </tr>\n",
       "    <tr>\n",
       "      <th>25%</th>\n",
       "      <td>163.250000</td>\n",
       "    </tr>\n",
       "    <tr>\n",
       "      <th>50%</th>\n",
       "      <td>168.000000</td>\n",
       "    </tr>\n",
       "    <tr>\n",
       "      <th>75%</th>\n",
       "      <td>174.250000</td>\n",
       "    </tr>\n",
       "    <tr>\n",
       "      <th>max</th>\n",
       "      <td>179.000000</td>\n",
       "    </tr>\n",
       "  </tbody>\n",
       "</table>\n",
       "</div>"
      ],
      "text/plain": [
       "                0\n",
       "count   10.000000\n",
       "mean   169.000000\n",
       "std      6.733003\n",
       "min    160.000000\n",
       "25%    163.250000\n",
       "50%    168.000000\n",
       "75%    174.250000\n",
       "max    179.000000"
      ]
     },
     "execution_count": 24,
     "metadata": {},
     "output_type": "execute_result"
    }
   ],
   "source": [
    "df_small_sample.describe()"
   ]
  },
  {
   "cell_type": "code",
   "execution_count": 25,
   "id": "868eca0e",
   "metadata": {
    "execution": {
     "iopub.execute_input": "2022-06-26T18:21:32.117017Z",
     "iopub.status.busy": "2022-06-26T18:21:32.116266Z",
     "iopub.status.idle": "2022-06-26T18:21:32.130405Z",
     "shell.execute_reply": "2022-06-26T18:21:32.129518Z"
    },
    "papermill": {
     "duration": 0.034557,
     "end_time": "2022-06-26T18:21:32.132915",
     "exception": false,
     "start_time": "2022-06-26T18:21:32.098358",
     "status": "completed"
    },
    "tags": []
   },
   "outputs": [],
   "source": [
    "small_sample_mean = round(df_small_sample.describe()[0]['mean'],2)\n",
    "small_sample_std = round(df_small_sample.describe()[0]['std'],2)\n",
    "significance_lvl = 0.05\n",
    "n = 10"
   ]
  },
  {
   "cell_type": "code",
   "execution_count": 26,
   "id": "cb5cb2f6",
   "metadata": {
    "execution": {
     "iopub.execute_input": "2022-06-26T18:21:32.168049Z",
     "iopub.status.busy": "2022-06-26T18:21:32.167315Z",
     "iopub.status.idle": "2022-06-26T18:21:32.177090Z",
     "shell.execute_reply": "2022-06-26T18:21:32.176041Z"
    },
    "papermill": {
     "duration": 0.030273,
     "end_time": "2022-06-26T18:21:32.179618",
     "exception": false,
     "start_time": "2022-06-26T18:21:32.149345",
     "status": "completed"
    },
    "tags": []
   },
   "outputs": [
    {
     "data": {
      "text/plain": [
       "popul_std              4.43\n",
       "popul_mean           167.02\n",
       "small_sample_std       6.73\n",
       "small_sample_mean    169.00\n",
       "significance_lvl       0.05\n",
       "n                     10.00\n",
       "dtype: float64"
      ]
     },
     "execution_count": 26,
     "metadata": {},
     "output_type": "execute_result"
    }
   ],
   "source": [
    "pd.Series(data={\n",
    "    \"popul_std\": popul_std,\n",
    "    \"popul_mean\": popul_mean,\n",
    "    \"small_sample_std\": small_sample_std,\n",
    "    \"small_sample_mean\": small_sample_mean,\n",
    "    \"significance_lvl\": significance_lvl,\n",
    "    \"n\": n,\n",
    "    })"
   ]
  },
  {
   "cell_type": "markdown",
   "id": "c65afbc2",
   "metadata": {
    "papermill": {
     "duration": 0.016351,
     "end_time": "2022-06-26T18:21:32.212740",
     "exception": false,
     "start_time": "2022-06-26T18:21:32.196389",
     "status": "completed"
    },
    "tags": []
   },
   "source": [
    "## T-test requirements:\n",
    "1. Population and sample are normally distributed.\n",
    "2. Sample size is lower than 30\n",
    "3. Population and sample variable is continuous.\n",
    "4. Sample elements were drawn randomly from a population <br><br>\n",
    "All above are fullfilled.\n",
    "\n",
    "https://dfrieds.com/math/intro-t-test-terms-and-one-sample-test.html"
   ]
  },
  {
   "cell_type": "markdown",
   "id": "54563bbf",
   "metadata": {
    "papermill": {
     "duration": 0.016287,
     "end_time": "2022-06-26T18:21:32.245661",
     "exception": false,
     "start_time": "2022-06-26T18:21:32.229374",
     "status": "completed"
    },
    "tags": []
   },
   "source": [
    "### By hand"
   ]
  },
  {
   "cell_type": "markdown",
   "id": "bcfac45b",
   "metadata": {
    "papermill": {
     "duration": 0.016182,
     "end_time": "2022-06-26T18:21:32.278380",
     "exception": false,
     "start_time": "2022-06-26T18:21:32.262198",
     "status": "completed"
    },
    "tags": []
   },
   "source": [
    "Hypothesis: <br>\n",
    "$H_0 = \\mu \\leq 167.02$ <br>\n",
    "$H_1 = \\mu > 167.02$ --> upper-tailed test <br>\n",
    "\n",
    "Default significance lvl = 95% --> $\\alpha = 0.05$ <br>\n",
    "\n",
    "Standard Deviation of sample $s = \\sqrt{\\frac{\\sum(x-\\overline{x})^2}{n-1}}=6.73$ <br>\n",
    "Standard Error of mean $SE_{\\overline{x}}=\\frac{s}{\\sqrt{n}}=\\frac{6.73}{\\sqrt{10}}=2.13$ <br>\n",
    "$t_{statistic} = \\frac{\\overline{x}-\\mu}{SE_{\\overline{x}}}$ = $\\frac{169-167.02}{2.13}=0.93$<br>\n",
    "\n",
    "degrees of freedom  = $df = n-1=9$ <br>\n",
    "$t_{critical} = 1.833$ <br> <br>\n",
    "\n",
    "*https://sphweb.bumc.bu.edu/otlt/mph-modules/bs/bs704_hypothesistest-means-proportions/bs704_hypothesistest-means-proportions3.html*\n",
    "\n",
    "Since 0.93 is outside the right range ($0.93<1.833$) we fail to reject our $H_0$. It means that our average height isn't significant higher."
   ]
  },
  {
   "cell_type": "markdown",
   "id": "4dcdb0c3",
   "metadata": {
    "papermill": {
     "duration": 0.016317,
     "end_time": "2022-06-26T18:21:32.311199",
     "exception": false,
     "start_time": "2022-06-26T18:21:32.294882",
     "status": "completed"
    },
    "tags": []
   },
   "source": [
    "### With python"
   ]
  },
  {
   "cell_type": "code",
   "execution_count": 27,
   "id": "2fd386a7",
   "metadata": {
    "execution": {
     "iopub.execute_input": "2022-06-26T18:21:32.346455Z",
     "iopub.status.busy": "2022-06-26T18:21:32.345712Z",
     "iopub.status.idle": "2022-06-26T18:21:32.356040Z",
     "shell.execute_reply": "2022-06-26T18:21:32.354933Z"
    },
    "papermill": {
     "duration": 0.030572,
     "end_time": "2022-06-26T18:21:32.358299",
     "exception": false,
     "start_time": "2022-06-26T18:21:32.327727",
     "status": "completed"
    },
    "tags": []
   },
   "outputs": [
    {
     "data": {
      "text/plain": [
       "0.9299430722614421"
      ]
     },
     "execution_count": 27,
     "metadata": {},
     "output_type": "execute_result"
    }
   ],
   "source": [
    "t_score, p_value = stats.ttest_1samp(df_small_sample[0], \n",
    "                                     popul_mean, \n",
    "                                     alternative = 'greater')\n",
    "t_score"
   ]
  },
  {
   "cell_type": "code",
   "execution_count": 28,
   "id": "55dd6f23",
   "metadata": {
    "execution": {
     "iopub.execute_input": "2022-06-26T18:21:32.393647Z",
     "iopub.status.busy": "2022-06-26T18:21:32.392939Z",
     "iopub.status.idle": "2022-06-26T18:21:32.400892Z",
     "shell.execute_reply": "2022-06-26T18:21:32.400059Z"
    },
    "papermill": {
     "duration": 0.028178,
     "end_time": "2022-06-26T18:21:32.403054",
     "exception": false,
     "start_time": "2022-06-26T18:21:32.374876",
     "status": "completed"
    },
    "tags": []
   },
   "outputs": [
    {
     "data": {
      "text/plain": [
       "1.83"
      ]
     },
     "execution_count": 28,
     "metadata": {},
     "output_type": "execute_result"
    }
   ],
   "source": [
    "t_critical = (-1)*round(stats.t.ppf(q=significance_lvl, \n",
    "                                    df=n-1), 2)\n",
    "t_critical"
   ]
  },
  {
   "cell_type": "code",
   "execution_count": 29,
   "id": "ac6bd309",
   "metadata": {
    "execution": {
     "iopub.execute_input": "2022-06-26T18:21:32.439789Z",
     "iopub.status.busy": "2022-06-26T18:21:32.439000Z",
     "iopub.status.idle": "2022-06-26T18:21:32.444390Z",
     "shell.execute_reply": "2022-06-26T18:21:32.443545Z"
    },
    "papermill": {
     "duration": 0.026935,
     "end_time": "2022-06-26T18:21:32.446648",
     "exception": false,
     "start_time": "2022-06-26T18:21:32.419713",
     "status": "completed"
    },
    "tags": []
   },
   "outputs": [],
   "source": [
    "p_value = round(p_value, 2)"
   ]
  },
  {
   "cell_type": "code",
   "execution_count": 30,
   "id": "96b7e6a6",
   "metadata": {
    "execution": {
     "iopub.execute_input": "2022-06-26T18:21:32.481775Z",
     "iopub.status.busy": "2022-06-26T18:21:32.481380Z",
     "iopub.status.idle": "2022-06-26T18:21:32.487623Z",
     "shell.execute_reply": "2022-06-26T18:21:32.486500Z"
    },
    "papermill": {
     "duration": 0.02744,
     "end_time": "2022-06-26T18:21:32.490869",
     "exception": false,
     "start_time": "2022-06-26T18:21:32.463429",
     "status": "completed"
    },
    "tags": []
   },
   "outputs": [
    {
     "name": "stdout",
     "output_type": "stream",
     "text": [
      "0.19 > 0.05: fail to reject null hypothesis\n"
     ]
    }
   ],
   "source": [
    "if p_value > significance_lvl:\n",
    "    print(f\"{p_value} > {significance_lvl}: fail to reject null hypothesis\")\n",
    "else:\n",
    "    print(f\"{p_value} < {significance_lvl}: reject null hypothesis\")"
   ]
  },
  {
   "cell_type": "markdown",
   "id": "92a1981b",
   "metadata": {
    "papermill": {
     "duration": 0.016998,
     "end_time": "2022-06-26T18:21:32.525910",
     "exception": false,
     "start_time": "2022-06-26T18:21:32.508912",
     "status": "completed"
    },
    "tags": []
   },
   "source": [
    "We fail to reject $H_0$, so our height isn't significant higher, which is totally opposite answer against the one from Z-test. <br>\n",
    "https://online.stat.psu.edu/statprogram/reviews/statistical-concepts/hypothesis-testing/p-value-approach"
   ]
  },
  {
   "cell_type": "markdown",
   "id": "668dcb55",
   "metadata": {
    "papermill": {
     "duration": 0.016848,
     "end_time": "2022-06-26T18:21:32.560114",
     "exception": false,
     "start_time": "2022-06-26T18:21:32.543266",
     "status": "completed"
    },
    "tags": []
   },
   "source": [
    "Let's check it for the same sample_std as in Z-test."
   ]
  },
  {
   "cell_type": "markdown",
   "id": "e2fafe8d",
   "metadata": {
    "papermill": {
     "duration": 0.016489,
     "end_time": "2022-06-26T18:21:32.593462",
     "exception": false,
     "start_time": "2022-06-26T18:21:32.576973",
     "status": "completed"
    },
    "tags": []
   },
   "source": [
    "Standard Deviation of sample $s = \\sqrt{\\frac{\\sum(x-\\overline{x})^2}{n-1}}=6.58$ <br>\n",
    "Standard Error of mean $SE_{\\overline{x}}=\\frac{s}{\\sqrt{n}}=\\frac{6.58}{\\sqrt{10}}=2.08$ <br>\n",
    "$t_{statistic} = \\frac{\\overline{x}-\\mu}{SE_{\\overline{x}}}$ = $\\frac{170.07-167.02}{2.08}=1.47$<br>\n",
    "\n",
    "degrees of freedom  = $df = n-1=9$ <br>\n",
    "$t_{critical} = 1.833$ <br> <br>\n",
    "\n",
    "*https://sphweb.bumc.bu.edu/otlt/mph-modules/bs/bs704_hypothesistest-means-proportions/bs704_hypothesistest-means-proportions3.html*\n",
    "\n",
    "Since 1.47 is outside the right range ($1.47<1.833$) we fail to reject our $H_0$. It means that our average height isn't significant higher."
   ]
  },
  {
   "cell_type": "markdown",
   "id": "a9cb3a60",
   "metadata": {
    "papermill": {
     "duration": 0.016627,
     "end_time": "2022-06-26T18:21:32.627834",
     "exception": false,
     "start_time": "2022-06-26T18:21:32.611207",
     "status": "completed"
    },
    "tags": []
   },
   "source": [
    "## Conslusion\n",
    "Above case indicated that sample size play keys role in hypothesis testing."
   ]
  }
 ],
 "metadata": {
  "kernelspec": {
   "display_name": "Python 3",
   "language": "python",
   "name": "python3"
  },
  "language_info": {
   "codemirror_mode": {
    "name": "ipython",
    "version": 3
   },
   "file_extension": ".py",
   "mimetype": "text/x-python",
   "name": "python",
   "nbconvert_exporter": "python",
   "pygments_lexer": "ipython3",
   "version": "3.7.12"
  },
  "papermill": {
   "default_parameters": {},
   "duration": 13.256252,
   "end_time": "2022-06-26T18:21:33.366506",
   "environment_variables": {},
   "exception": null,
   "input_path": "__notebook__.ipynb",
   "output_path": "__notebook__.ipynb",
   "parameters": {},
   "start_time": "2022-06-26T18:21:20.110254",
   "version": "2.3.4"
  }
 },
 "nbformat": 4,
 "nbformat_minor": 5
}
